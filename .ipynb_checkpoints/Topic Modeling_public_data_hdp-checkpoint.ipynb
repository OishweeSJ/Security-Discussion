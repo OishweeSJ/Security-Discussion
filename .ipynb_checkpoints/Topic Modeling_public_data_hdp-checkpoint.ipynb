{
 "cells": [
  {
   "cell_type": "code",
   "execution_count": 1,
   "id": "6deebf24",
   "metadata": {},
   "outputs": [],
   "source": [
    "#importing the libraries\n",
    "import numpy as np\n",
    "import numpy.random as nprand\n",
    "import math as math\n",
    "import pandas as pd "
   ]
  },
  {
   "cell_type": "code",
   "execution_count": 2,
   "id": "5c244962",
   "metadata": {
    "scrolled": true
   },
   "outputs": [
    {
     "name": "stderr",
     "output_type": "stream",
     "text": [
      "[nltk_data] Downloading package stopwords to\n",
      "[nltk_data]     C:\\Users\\Oishwee_PC\\AppData\\Roaming\\nltk_data...\n",
      "[nltk_data]   Package stopwords is already up-to-date!\n"
     ]
    },
    {
     "data": {
      "text/plain": [
       "True"
      ]
     },
     "execution_count": 2,
     "metadata": {},
     "output_type": "execute_result"
    }
   ],
   "source": [
    "# Run in python console\n",
    "import nltk; nltk.download('stopwords')\n",
    "\n",
    "# Run in terminal or command prompt\n",
    "#!python3 -m spacy download en\n",
    "#!pip install -U gensim"
   ]
  },
  {
   "cell_type": "code",
   "execution_count": 3,
   "id": "0648524f",
   "metadata": {},
   "outputs": [],
   "source": [
    "#!pip install gensim\n",
    "#!pip install spacy"
   ]
  },
  {
   "cell_type": "code",
   "execution_count": 4,
   "id": "ca719164",
   "metadata": {},
   "outputs": [],
   "source": [
    "#!pip install pyLDAvis"
   ]
  },
  {
   "cell_type": "code",
   "execution_count": 5,
   "id": "56c33bd4",
   "metadata": {},
   "outputs": [],
   "source": [
    "import re\n",
    "from pprint import pprint\n",
    "\n",
    "# Gensim\n",
    "import gensim\n",
    "import gensim.corpora as corpora\n",
    "from gensim.utils import simple_preprocess\n",
    "from gensim.models import CoherenceModel\n",
    "\n",
    "# spacy for lemmatization\n",
    "import spacy\n",
    "\n",
    "# Plotting tools\n",
    "import pyLDAvis\n",
    "#import pyLDAvis.gensim  # don't skip this\n",
    "import pyLDAvis.gensim_models as gensimvis\n",
    "import matplotlib.pyplot as plt\n",
    "%matplotlib inline\n",
    "\n",
    "# Enable logging for gensim - optional\n",
    "import logging\n",
    "logging.basicConfig(format='%(asctime)s : %(levelname)s : %(message)s', level=logging.ERROR)\n",
    "\n",
    "import warnings\n",
    "warnings.filterwarnings(\"ignore\",category=DeprecationWarning)"
   ]
  },
  {
   "cell_type": "code",
   "execution_count": 6,
   "id": "0922bc18",
   "metadata": {},
   "outputs": [],
   "source": [
    "#Using Stop Words\n",
    "from nltk.corpus import stopwords\n",
    "stop_words = stopwords.words('english')\n",
    "#stop_words.extend(['from', 'subject', 're', 'edu', 'use'])"
   ]
  },
  {
   "cell_type": "code",
   "execution_count": 7,
   "id": "09ba7b0e",
   "metadata": {},
   "outputs": [
    {
     "data": {
      "text/html": [
       "<div>\n",
       "<style scoped>\n",
       "    .dataframe tbody tr th:only-of-type {\n",
       "        vertical-align: middle;\n",
       "    }\n",
       "\n",
       "    .dataframe tbody tr th {\n",
       "        vertical-align: top;\n",
       "    }\n",
       "\n",
       "    .dataframe thead th {\n",
       "        text-align: right;\n",
       "    }\n",
       "</style>\n",
       "<table border=\"1\" class=\"dataframe\">\n",
       "  <thead>\n",
       "    <tr style=\"text-align: right;\">\n",
       "      <th></th>\n",
       "      <th>postid</th>\n",
       "      <th>tags</th>\n",
       "      <th>title</th>\n",
       "      <th>question</th>\n",
       "      <th>answers</th>\n",
       "      <th>words</th>\n",
       "      <th>creation_date</th>\n",
       "      <th>Related</th>\n",
       "    </tr>\n",
       "  </thead>\n",
       "  <tbody>\n",
       "    <tr>\n",
       "      <th>0</th>\n",
       "      <td>40471439</td>\n",
       "      <td>blockchain diffie-hellman encryption javascript</td>\n",
       "      <td>js diffi hellman ssl blockchain auth</td>\n",
       "      <td>tri figur secur qualiti ssl mimick without nee...</td>\n",
       "      <td>NaN</td>\n",
       "      <td>encrypt|scripting|diffie hellman|ssl|security|...</td>\n",
       "      <td>2016-11-07 17:52:22.793 UTC</td>\n",
       "      <td>Yes</td>\n",
       "    </tr>\n",
       "    <tr>\n",
       "      <th>1</th>\n",
       "      <td>32771909</td>\n",
       "      <td>cryptography jar jarsigner java smartcard</td>\n",
       "      <td>sign jar smartcard</td>\n",
       "      <td>use pkcs11 smartcard work jarsign sign jar fil...</td>\n",
       "      <td>ad -sigalg algortihm avail [sha256withrsa case...</td>\n",
       "      <td>crypt|signing|certificate|validate|private key...</td>\n",
       "      <td>2015-09-24 22:23:45.947 UTC</td>\n",
       "      <td>Yes</td>\n",
       "    </tr>\n",
       "    <tr>\n",
       "      <th>2</th>\n",
       "      <td>15574818</td>\n",
       "      <td>java jespa ntlm servlets spring-security</td>\n",
       "      <td>cannot creat session respons commit ie7 ie8</td>\n",
       "      <td>work applic allow user login use ntlm form log...</td>\n",
       "      <td>NaN</td>\n",
       "      <td>security|login|credential|password|validate|au...</td>\n",
       "      <td>2013-03-22 16:04:18.12 UTC</td>\n",
       "      <td>Yes</td>\n",
       "    </tr>\n",
       "    <tr>\n",
       "      <th>3</th>\n",
       "      <td>19042957</td>\n",
       "      <td>asp.net c# security</td>\n",
       "      <td>strong name assembl</td>\n",
       "      <td>thought learn strong name creat one exampl cac...</td>\n",
       "      <td>refer strong-nam assembl normal assembl includ...</td>\n",
       "      <td>security|signing|public key|signature|private key</td>\n",
       "      <td>2013-09-27 04:51:44.143 UTC</td>\n",
       "      <td>Yes</td>\n",
       "    </tr>\n",
       "    <tr>\n",
       "      <th>4</th>\n",
       "      <td>59694966</td>\n",
       "      <td>ssh digital-ocean cyberduck</td>\n",
       "      <td>eof read packet</td>\n",
       "      <td>connect via sftp digitalocean vps username/pas...</td>\n",
       "      <td>need updat password termin window *open digit ...</td>\n",
       "      <td>sftp|username|password|authentication|login</td>\n",
       "      <td>11/1/2020 13:43</td>\n",
       "      <td>Yes</td>\n",
       "    </tr>\n",
       "  </tbody>\n",
       "</table>\n",
       "</div>"
      ],
      "text/plain": [
       "     postid                                             tags  \\\n",
       "0  40471439  blockchain diffie-hellman encryption javascript   \n",
       "1  32771909        cryptography jar jarsigner java smartcard   \n",
       "2  15574818         java jespa ntlm servlets spring-security   \n",
       "3  19042957                              asp.net c# security   \n",
       "4  59694966                      ssh digital-ocean cyberduck   \n",
       "\n",
       "                                         title  \\\n",
       "0         js diffi hellman ssl blockchain auth   \n",
       "1                           sign jar smartcard   \n",
       "2  cannot creat session respons commit ie7 ie8   \n",
       "3                          strong name assembl   \n",
       "4                              eof read packet   \n",
       "\n",
       "                                            question  \\\n",
       "0  tri figur secur qualiti ssl mimick without nee...   \n",
       "1  use pkcs11 smartcard work jarsign sign jar fil...   \n",
       "2  work applic allow user login use ntlm form log...   \n",
       "3  thought learn strong name creat one exampl cac...   \n",
       "4  connect via sftp digitalocean vps username/pas...   \n",
       "\n",
       "                                             answers  \\\n",
       "0                                                NaN   \n",
       "1  ad -sigalg algortihm avail [sha256withrsa case...   \n",
       "2                                                NaN   \n",
       "3  refer strong-nam assembl normal assembl includ...   \n",
       "4  need updat password termin window *open digit ...   \n",
       "\n",
       "                                               words  \\\n",
       "0  encrypt|scripting|diffie hellman|ssl|security|...   \n",
       "1  crypt|signing|certificate|validate|private key...   \n",
       "2  security|login|credential|password|validate|au...   \n",
       "3  security|signing|public key|signature|private key   \n",
       "4        sftp|username|password|authentication|login   \n",
       "\n",
       "                 creation_date Related  \n",
       "0  2016-11-07 17:52:22.793 UTC     Yes  \n",
       "1  2015-09-24 22:23:45.947 UTC     Yes  \n",
       "2   2013-03-22 16:04:18.12 UTC     Yes  \n",
       "3  2013-09-27 04:51:44.143 UTC     Yes  \n",
       "4              11/1/2020 13:43     Yes  "
      ]
     },
     "execution_count": 7,
     "metadata": {},
     "output_type": "execute_result"
    }
   ],
   "source": [
    "#read iris.csv\n",
    "import pandas as pd\n",
    "df = pd.read_csv('security.csv',encoding='utf-8')\n",
    "df.head()"
   ]
  },
  {
   "cell_type": "code",
   "execution_count": 8,
   "id": "8d847680",
   "metadata": {},
   "outputs": [
    {
     "name": "stdout",
     "output_type": "stream",
     "text": [
      "['encrypt|scripting|diffie '\n",
      " 'hellman|ssl|security|authentication|certificate|authorise|public key',\n",
      " 'crypt|signing|certificate|validate|private key|dsa|rsa|availability',\n",
      " 'security|login|credential|password|validate|authentication',\n",
      " 'security|signing|public key|signature|private key']\n"
     ]
    }
   ],
   "source": [
    "# Convert to list\n",
    "data = df.words.values.tolist()\n",
    "\n",
    "# Remove Emails\n",
    "#data = [re.sub('\\S*@\\S*\\s?', '', sent) for sent in data]\n",
    "\n",
    "# Remove new line characters\n",
    "#data = [re.sub('\\s+', ' ', sent) for sent in data]\n",
    "\n",
    "# Remove distracting single quotes\n",
    "#data = [re.sub(\"\\'\", \"\", sent) for sent in data]\n",
    "\n",
    "pprint(data[:4])"
   ]
  },
  {
   "cell_type": "code",
   "execution_count": 9,
   "id": "8a1103bc",
   "metadata": {},
   "outputs": [
    {
     "name": "stdout",
     "output_type": "stream",
     "text": [
      "385\n"
     ]
    }
   ],
   "source": [
    "def sent_to_words(sentences):\n",
    "    for sentence in sentences:\n",
    "        yield(gensim.utils.simple_preprocess(str(sentence), deacc=True))  # deacc=True removes punctuations\n",
    "\n",
    "data_words = list(sent_to_words(data))\n",
    "print(len(data_words))\n",
    "\n",
    "\n",
    "#print(data_words[:10])"
   ]
  },
  {
   "cell_type": "code",
   "execution_count": 10,
   "id": "291f7042",
   "metadata": {},
   "outputs": [
    {
     "name": "stdout",
     "output_type": "stream",
     "text": [
      "['security', 'openid', 'oauth', 'login', 'authorise', 'authentication', 'validate', 'hack']\n"
     ]
    }
   ],
   "source": [
    "# Build the bigram and trigram models\n",
    "bigram = gensim.models.Phrases(data_words, min_count=5, threshold=100) # higher threshold fewer phrases.\n",
    "trigram = gensim.models.Phrases(bigram[data_words], threshold=100)  \n",
    "\n",
    "# Faster way to get a sentence clubbed as a trigram/bigram\n",
    "bigram_mod = gensim.models.phrases.Phraser(bigram)\n",
    "trigram_mod = gensim.models.phrases.Phraser(trigram)\n",
    "\n",
    "# See trigram example\n",
    "print(trigram_mod[bigram_mod[data_words[100]]])"
   ]
  },
  {
   "cell_type": "code",
   "execution_count": 11,
   "id": "6e42620d",
   "metadata": {},
   "outputs": [],
   "source": [
    "# Define functions for stopwords, bigrams, trigrams and lemmatization\n",
    "def remove_stopwords(texts):\n",
    "    return [[word for word in simple_preprocess(str(doc)) if word not in stop_words] for doc in texts]\n",
    "\n",
    "def make_bigrams(texts):\n",
    "    return [bigram_mod[doc] for doc in texts]\n",
    "\n",
    "def make_trigrams(texts):\n",
    "    return [trigram_mod[bigram_mod[doc]] for doc in texts]\n",
    "\n",
    "def lemmatization(texts, allowed_postags=['NOUN', 'ADJ', 'VERB', 'ADV']):\n",
    "    \"\"\"https://spacy.io/api/annotation\"\"\"\n",
    "    texts_out = []\n",
    "    for sent in texts:\n",
    "        doc = nlp(\" \".join(sent)) \n",
    "        texts_out.append([token.lemma_ for token in doc if token.pos_ in allowed_postags])\n",
    "    return texts_out"
   ]
  },
  {
   "cell_type": "code",
   "execution_count": 12,
   "id": "3a021a40",
   "metadata": {},
   "outputs": [],
   "source": [
    "#!python -m spacy download en_core_web_sm"
   ]
  },
  {
   "cell_type": "code",
   "execution_count": 13,
   "id": "754a7fa1",
   "metadata": {},
   "outputs": [
    {
     "name": "stdout",
     "output_type": "stream",
     "text": [
      "[['encrypt', 'scripting', 'security', 'authentication', 'certificate', 'authorise', 'public', 'key'], ['sign', 'certificate', 'validate', 'private', 'key'], ['security', 'login', 'credential', 'password', 'validate', 'authentication'], ['security', 'sign', 'public', 'key', 'signature', 'private', 'key'], ['sftp', 'username', 'password', 'authentication', 'login'], ['encrypt'], ['delegation', 'transport', 'security', 'privilege', 'authentication'], ['security', 'encrypt'], ['security', 'transport', 'certificate', 'trust', 'validate', 'insecure', 'bypass'], ['certificate', 'signature', 'hash', 'encode', 'validate']]\n"
     ]
    }
   ],
   "source": [
    "# Remove Stop Words\n",
    "data_words_nostops = remove_stopwords(data_words)\n",
    "\n",
    "# Form Bigrams\n",
    "data_words_bigrams = make_bigrams(data_words_nostops)\n",
    "\n",
    "# Initialize spacy 'en' model, keeping only tagger component (for efficiency)\n",
    "# python3 -m spacy download en\n",
    "#nlp = spacy.load('en', disable=['parser', 'ner'])\n",
    "nlp = spacy.load(\"en_core_web_sm\",disable=['parser', 'ner'])\n",
    "\n",
    "# Do lemmatization keeping only noun, adj, vb, adv\n",
    "data_lemmatized = lemmatization(data_words_bigrams, allowed_postags=['NOUN', 'ADJ', 'VERB', 'ADV'])\n",
    "\n",
    "print(data_lemmatized[:10])"
   ]
  },
  {
   "cell_type": "code",
   "execution_count": 14,
   "id": "ace47122",
   "metadata": {},
   "outputs": [
    {
     "name": "stdout",
     "output_type": "stream",
     "text": [
      "[[(0, 1), (1, 1), (2, 1), (3, 1), (4, 1), (5, 1), (6, 1), (7, 1)]]\n"
     ]
    }
   ],
   "source": [
    "# Create Dictionary\n",
    "id2word = corpora.Dictionary(data_lemmatized)\n",
    "\n",
    "# Create Corpus\n",
    "texts = data_lemmatized\n",
    "\n",
    "# Term Document Frequency\n",
    "corpus = [id2word.doc2bow(text) for text in texts]\n",
    "\n",
    "# View\n",
    "print(corpus[:1])"
   ]
  },
  {
   "cell_type": "code",
   "execution_count": 15,
   "id": "4e1caff3",
   "metadata": {},
   "outputs": [
    {
     "data": {
      "text/plain": [
       "[[('authentication', 1),\n",
       "  ('authorise', 1),\n",
       "  ('certificate', 1),\n",
       "  ('encrypt', 1),\n",
       "  ('key', 1),\n",
       "  ('public', 1),\n",
       "  ('scripting', 1),\n",
       "  ('security', 1)]]"
      ]
     },
     "execution_count": 15,
     "metadata": {},
     "output_type": "execute_result"
    }
   ],
   "source": [
    "[[(id2word[id], freq) for id, freq in cp] for cp in corpus[:1]]"
   ]
  },
  {
   "cell_type": "code",
   "execution_count": 16,
   "id": "19d72fa7",
   "metadata": {},
   "outputs": [],
   "source": [
    "# Build LDA model\n",
    "lda_model = gensim.models.ldamodel.LdaModel(corpus=corpus,\n",
    "                                           id2word=id2word,\n",
    "                                           num_topics=10, \n",
    "                                           random_state=100,\n",
    "                                           update_every=1,\n",
    "                                           chunksize=100,\n",
    "                                           passes=10,\n",
    "                                           alpha='auto',\n",
    "                                           per_word_topics=True)"
   ]
  },
  {
   "cell_type": "code",
   "execution_count": 17,
   "id": "8fb34225",
   "metadata": {},
   "outputs": [
    {
     "name": "stdout",
     "output_type": "stream",
     "text": [
      "[(0,\n",
      "  '0.179*\"hash\" + 0.114*\"availability\" + 0.079*\"scripting\" + 0.062*\"encrypt\" + '\n",
      "  '0.056*\"salt\" + 0.053*\"hack\" + 0.048*\"password\" + 0.036*\"sanitise\" + '\n",
      "  '0.032*\"xss\" + 0.031*\"crack\"'),\n",
      " (1,\n",
      "  '0.312*\"encrypt\" + 0.117*\"safe\" + 0.097*\"encode\" + 0.073*\"crypt\" + '\n",
      "  '0.061*\"security\" + 0.054*\"scripting\" + 0.039*\"salt\" + 0.037*\"attack\" + '\n",
      "  '0.024*\"cbc\" + 0.023*\"csrf\"'),\n",
      " (2,\n",
      "  '0.287*\"decode\" + 0.119*\"nonce\" + 0.097*\"availability\" + 0.097*\"attack\" + '\n",
      "  '0.070*\"cookie\" + 0.046*\"eavesdropping\" + 0.036*\"signature\" + 0.014*\"asset\" '\n",
      "  '+ 0.002*\"crypt\" + 0.002*\"mitm\"'),\n",
      " (3,\n",
      "  '0.226*\"security\" + 0.157*\"trust\" + 0.101*\"delegation\" + 0.093*\"privilege\" + '\n",
      "  '0.070*\"hijacking\" + 0.060*\"authentication\" + 0.059*\"spam\" + 0.039*\"audit\" + '\n",
      "  '0.017*\"illegitimate\" + 0.010*\"transport\"'),\n",
      " (4,\n",
      "  '0.185*\"key\" + 0.097*\"private\" + 0.094*\"public\" + 0.083*\"sign\" + '\n",
      "  '0.074*\"certificate\" + 0.041*\"malicious\" + 0.039*\"openssl\" + 0.038*\"ssl\" + '\n",
      "  '0.036*\"signature\" + 0.027*\"tls\"'),\n",
      " (5,\n",
      "  '0.144*\"signature\" + 0.140*\"signing\" + 0.089*\"insecure\" + 0.087*\"user\" + '\n",
      "  '0.080*\"certificate\" + 0.059*\"hash\" + 0.049*\"fingerprint\" + 0.043*\"account\" '\n",
      "  '+ 0.037*\"single\" + 0.031*\"injection\"'),\n",
      " (6,\n",
      "  '0.149*\"password\" + 0.132*\"login\" + 0.116*\"authentication\" + '\n",
      "  '0.107*\"security\" + 0.079*\"username\" + 0.079*\"validate\" + 0.067*\"scripting\" '\n",
      "  '+ 0.056*\"authorise\" + 0.047*\"credential\" + 0.030*\"script\"'),\n",
      " (7,\n",
      "  '0.160*\"security\" + 0.149*\"certificate\" + 0.138*\"script\" + 0.076*\"validate\" '\n",
      "  '+ 0.056*\"sign\" + 0.048*\"exploit\" + 0.042*\"transport\" + 0.041*\"bypass\" + '\n",
      "  '0.038*\"attack\" + 0.032*\"snif\"'),\n",
      " (8,\n",
      "  '0.138*\"vulnerability\" + 0.135*\"attack\" + 0.116*\"safe\" + 0.099*\"security\" + '\n",
      "  '0.092*\"danger\" + 0.076*\"injection\" + 0.062*\"unsafe\" + 0.060*\"protect\" + '\n",
      "  '0.025*\"leak\" + 0.024*\"sql\"'),\n",
      " (9,\n",
      "  '0.422*\"signing\" + 0.262*\"forge\" + 0.045*\"md\" + 0.035*\"violate\" + '\n",
      "  '0.030*\"captcha\" + 0.025*\"backdoor\" + 0.016*\"day\" + 0.012*\"spoof\" + '\n",
      "  '0.001*\"login\" + 0.001*\"password\"')]\n"
     ]
    }
   ],
   "source": [
    "# Print the Keyword in the 10 topics\n",
    "pprint(lda_model.print_topics())\n",
    "doc_lda = lda_model[corpus]"
   ]
  },
  {
   "cell_type": "code",
   "execution_count": 18,
   "id": "bffce407",
   "metadata": {},
   "outputs": [
    {
     "name": "stdout",
     "output_type": "stream",
     "text": [
      "\n",
      "Perplexity:  -4.233864568185743\n",
      "\n",
      "Coherence Score:  0.41116690448732973\n"
     ]
    }
   ],
   "source": [
    "# Compute Perplexity\n",
    "print('\\nPerplexity: ', lda_model.log_perplexity(corpus))  # a measure of how good the model is. lower the better.\n",
    "\n",
    "# Compute Coherence Score\n",
    "coherence_model_lda = CoherenceModel(model=lda_model, texts=data_lemmatized, dictionary=id2word, coherence='c_v')\n",
    "coherence_lda = coherence_model_lda.get_coherence()\n",
    "print('\\nCoherence Score: ', coherence_lda)"
   ]
  },
  {
   "cell_type": "code",
   "execution_count": 19,
   "id": "d59cc746",
   "metadata": {},
   "outputs": [
    {
     "data": {
      "text/plain": [
       "([(0, 0.010444379), (1, 0.15398152), (4, 0.35706717), (6, 0.44063902)],\n",
       " [(0, [6]),\n",
       "  (1, [6, 4]),\n",
       "  (2, [4]),\n",
       "  (3, [1]),\n",
       "  (4, [4]),\n",
       "  (5, [4]),\n",
       "  (6, [6, 1]),\n",
       "  (7, [6, 1, 4])],\n",
       " [(0, [(6, 0.9999965)]),\n",
       "  (1, [(4, 0.12184056), (6, 0.8781542)]),\n",
       "  (2, [(4, 0.9999924)]),\n",
       "  (3, [(1, 0.9999903)]),\n",
       "  (4, [(4, 0.99999744)]),\n",
       "  (5, [(4, 0.999995)]),\n",
       "  (6, [(1, 0.17569073), (6, 0.8242981)]),\n",
       "  (7, [(1, 0.118948914), (4, 0.08422393), (6, 0.7968234)])])"
      ]
     },
     "execution_count": 19,
     "metadata": {},
     "output_type": "execute_result"
    }
   ],
   "source": [
    "lda_model[corpus[0]]"
   ]
  },
  {
   "cell_type": "code",
   "execution_count": 20,
   "id": "5e81ea9a",
   "metadata": {},
   "outputs": [
    {
     "name": "stderr",
     "output_type": "stream",
     "text": [
      "C:\\Users\\Oishwee_PC\\anaconda3\\lib\\site-packages\\pyLDAvis\\_prepare.py:246: FutureWarning: In a future version of pandas all arguments of DataFrame.drop except for the argument 'labels' will be keyword-only\n",
      "  default_term_info = default_term_info.sort_values(\n"
     ]
    },
    {
     "data": {
      "text/html": [
       "\n",
       "<link rel=\"stylesheet\" type=\"text/css\" href=\"https://cdn.jsdelivr.net/gh/bmabey/pyLDAvis@3.3.1/pyLDAvis/js/ldavis.v1.0.0.css\">\n",
       "\n",
       "\n",
       "<div id=\"ldavis_el660828168287412164174305567\"></div>\n",
       "<script type=\"text/javascript\">\n",
       "\n",
       "var ldavis_el660828168287412164174305567_data = {\"mdsDat\": {\"x\": [-0.2090478323967597, 0.18696688851679855, -0.2128451017140438, -0.09856587511884325, -0.0202026294050776, -0.10608566493780934, 0.2614727217630194, -0.08084608396048099, 0.22441304567424297, 0.0547405315789543], \"y\": [0.17677920739270206, 0.16353755219660643, -0.17753008481053442, -0.19822117605027872, 0.20335788302072608, -0.04746866540457042, -0.09717985448565798, 0.13896278308486643, -0.03740722548196914, -0.12483041946188964], \"topics\": [1, 2, 3, 4, 5, 6, 7, 8, 9, 10], \"cluster\": [1, 1, 1, 1, 1, 1, 1, 1, 1, 1], \"Freq\": [46.418907418214474, 14.221946214132931, 9.956441575963833, 7.063867865076909, 5.981940189376496, 4.825719878137471, 3.7846393056337857, 2.851471694954822, 2.7363948697400162, 2.158670988769265]}, \"tinfo\": {\"Term\": [\"security\", \"encrypt\", \"signing\", \"authentication\", \"key\", \"script\", \"certificate\", \"password\", \"login\", \"forge\", \"safe\", \"hash\", \"validate\", \"scripting\", \"attack\", \"availability\", \"decode\", \"cookie\", \"signature\", \"trust\", \"sign\", \"private\", \"public\", \"encode\", \"vulnerability\", \"user\", \"username\", \"crypt\", \"protect\", \"danger\", \"login\", \"username\", \"credential\", \"oauth\", \"authentication\", \"password\", \"authorise\", \"inject\", \"name\", \"openid\", \"validate\", \"integrity\", \"cookie\", \"scripting\", \"saml\", \"security\", \"script\", \"user\", \"burp\", \"protect\", \"sign\", \"asset\", \"rbac\", \"spnego\", \"hsm\", \"vector\", \"penetration\", \"test\", \"intruder\", \"threadsafe\", \"signing\", \"firewall\", \"ldap\", \"backdoor\", \"virus\", \"ssh\", \"day\", \"malicious\", \"key\", \"private\", \"public\", \"malicious\", \"openssl\", \"ssl\", \"tls\", \"cipher\", \"tamper\", \"sandbox\", \"ldap\", \"virus\", \"tunnel\", \"access\", \"control\", \"fraud\", \"gnupg\", \"threat\", \"firewall\", \"sign\", \"signature\", \"rsa\", \"certificate\", \"spnego\", \"rbac\", \"trust\", \"availability\", \"signing\", \"protect\", \"asset\", \"authorise\", \"validate\", \"security\", \"encode\", \"crypt\", \"encrypt\", \"cbc\", \"csrf\", \"pbkdf\", \"thread\", \"obfuscate\", \"honeypot\", \"safe\", \"ssh\", \"threadsafe\", \"salt\", \"rsa\", \"attack\", \"scripting\", \"protect\", \"cookie\", \"security\", \"asset\", \"spnego\", \"rbac\", \"hsm\", \"vector\", \"penetration\", \"test\", \"intruder\", \"spoof\", \"illegitimate\", \"confidential\", \"password\", \"signing\", \"disclosure\", \"authentication\", \"login\", \"fraud\", \"gnupg\", \"threat\", \"cipher\", \"danger\", \"inject\", \"hack\", \"hash\", \"sanitise\", \"xss\", \"crack\", \"checksum\", \"owasp\", \"information\", \"sensitive\", \"table\", \"disclosure\", \"sftp\", \"steal\", \"hmac\", \"openssh\", \"availability\", \"crc\", \"salt\", \"integrity\", \"scripting\", \"encrypt\", \"asset\", \"spnego\", \"rbac\", \"hsm\", \"penetration\", \"test\", \"vector\", \"intruder\", \"threadsafe\", \"password\", \"security\", \"protect\", \"login\", \"validate\", \"transport\", \"authorise\", \"adversarial\", \"rainbow\", \"exploit\", \"bypass\", \"snif\", \"transport\", \"mitm\", \"tunnelling\", \"confidential\", \"theft\", \"penetration\", \"test\", \"vector\", \"certificate\", \"backdoor\", \"script\", \"day\", \"eavesdropping\", \"sign\", \"attack\", \"security\", \"trust\", \"validate\", \"asset\", \"spnego\", \"rbac\", \"hsm\", \"intruder\", \"threadsafe\", \"spoof\", \"illegitimate\", \"adversarial\", \"protect\", \"authorise\", \"malicious\", \"xss\", \"firewall\", \"steal\", \"openid\", \"hijacking\", \"sandbox\", \"vulnerability\", \"danger\", \"unsafe\", \"injection\", \"leak\", \"sql\", \"cross\", \"site\", \"adversarial\", \"rainbow\", \"intruder\", \"attack\", \"safe\", \"protect\", \"asset\", \"spnego\", \"rbac\", \"hsm\", \"security\", \"vector\", \"penetration\", \"test\", \"threadsafe\", \"spoof\", \"illegitimate\", \"theft\", \"confidential\", \"ssh\", \"crc\", \"burp\", \"encrypt\", \"malicious\", \"xss\", \"sanitise\", \"mitm\", \"snif\", \"hack\", \"table\", \"eavesdropping\", \"hmac\", \"exploit\", \"sandbox\", \"script\", \"hash\", \"forge\", \"md\", \"violate\", \"captcha\", \"signing\", \"spoof\", \"backdoor\", \"day\", \"asset\", \"spnego\", \"rbac\", \"hsm\", \"vector\", \"penetration\", \"test\", \"intruder\", \"threadsafe\", \"illegitimate\", \"theft\", \"confidential\", \"adversarial\", \"rainbow\", \"ssh\", \"crc\", \"burp\", \"saml\", \"cross\", \"site\", \"tunnelling\", \"firewall\", \"login\", \"password\", \"spam\", \"sandbox\", \"username\", \"oauth\", \"security\", \"scripting\", \"script\", \"snif\", \"ldap\", \"inject\", \"openssl\", \"cookie\", \"availability\", \"integrity\", \"privilege\", \"credential\", \"csrf\", \"encrypt\", \"delegation\", \"privilege\", \"hijacking\", \"spam\", \"audit\", \"illegitimate\", \"trust\", \"transport\", \"security\", \"asset\", \"rbac\", \"spnego\", \"hsm\", \"vector\", \"penetration\", \"test\", \"intruder\", \"threadsafe\", \"spoof\", \"theft\", \"confidential\", \"adversarial\", \"rainbow\", \"ssh\", \"crc\", \"burp\", \"saml\", \"cross\", \"site\", \"tunnelling\", \"authentication\", \"backdoor\", \"captcha\", \"inject\", \"owasp\", \"xss\", \"integrity\", \"protect\", \"credential\", \"malicious\", \"sign\", \"cookie\", \"safe\", \"certificate\", \"name\", \"csrf\", \"authorise\", \"ssl\", \"insecure\", \"fingerprint\", \"account\", \"single\", \"hsm\", \"signature\", \"user\", \"injection\", \"signing\", \"hash\", \"certificate\", \"asset\", \"spnego\", \"rbac\", \"vector\", \"penetration\", \"test\", \"intruder\", \"threadsafe\", \"spoof\", \"illegitimate\", \"theft\", \"confidential\", \"adversarial\", \"rainbow\", \"ssh\", \"crc\", \"burp\", \"saml\", \"cross\", \"validate\", \"safe\", \"password\", \"authentication\", \"sql\", \"login\", \"rsa\", \"inject\", \"danger\", \"scripting\", \"cookie\", \"availability\", \"openid\", \"nonce\", \"integrity\", \"encode\", \"encrypt\", \"name\", \"decode\", \"nonce\", \"eavesdropping\", \"asset\", \"availability\", \"attack\", \"cookie\", \"signature\", \"spnego\", \"rbac\", \"hsm\", \"penetration\", \"test\", \"vector\", \"intruder\", \"threadsafe\", \"spoof\", \"illegitimate\", \"theft\", \"confidential\", \"adversarial\", \"rainbow\", \"ssh\", \"crc\", \"burp\", \"saml\", \"cross\", \"site\", \"tunnelling\", \"firewall\", \"crypt\", \"mitm\", \"openid\", \"xss\", \"security\", \"obfuscate\", \"script\", \"encode\", \"csrf\", \"scripting\", \"salt\", \"hash\", \"sanitise\", \"oauth\", \"authentication\", \"authorise\", \"danger\", \"signing\", \"encrypt\", \"protect\", \"violate\"], \"Freq\": [151.0, 67.0, 43.0, 105.0, 50.0, 42.0, 41.0, 137.0, 115.0, 19.0, 33.0, 27.0, 82.0, 79.0, 27.0, 23.0, 12.0, 22.0, 19.0, 17.0, 39.0, 26.0, 26.0, 18.0, 13.0, 13.0, 70.0, 14.0, 29.0, 9.0, 115.11117368165027, 69.5046726806709, 40.90027777188757, 23.85346442188547, 101.72627280320162, 130.41302190020048, 48.794375724394584, 9.341215708214085, 6.7290563299005095, 5.0093344765838905, 69.16758931191002, 11.71311493219308, 17.60260388727707, 58.37732289593615, 1.5039404953953834, 93.53744692708206, 25.89326504426483, 7.810332350735293, 1.2184165038904988, 15.910372817054162, 10.263299029670437, 0.10507049391946423, 0.10512080150246558, 0.10509602969716841, 0.105070360224293, 0.10508488206646284, 0.1050787702872068, 0.1050787702872068, 0.10507516688402041, 0.10507170990887871, 0.10778036134504589, 0.10515164052196174, 0.1051277663842428, 0.1051214890776319, 0.10511339733655435, 0.10510876257061852, 0.1051010337164343, 0.10509629072107414, 49.669449290746364, 26.11031685288227, 25.212970323138354, 10.995869561354402, 10.366071962210441, 10.086165247111627, 7.205270967141618, 6.538033495436022, 5.203748303039442, 3.235195626742898, 3.218784161358243, 2.8664886825476907, 2.26968778615484, 2.269626117075092, 2.269626117075092, 1.6536014455231576, 1.6536014455231576, 1.6536014455231576, 1.5670522626737682, 22.35076202400444, 9.564336973970248, 3.247972860852998, 19.82772867003797, 0.601433629963693, 0.60142095909002, 6.583711558100378, 3.8041073684186832, 5.6361419295474215, 2.8056317870764813, 0.0910930798638031, 3.0504260756112846, 3.489742118739099, 4.275022448271574, 18.11238675238157, 13.75819839266354, 58.626222005334014, 4.5912474777864425, 4.38132025290418, 4.325366600508641, 3.351058159290153, 1.8305223747610497, 1.774436406624965, 21.975869341249744, 1.0659003857265394, 0.8002200795349679, 7.244431870248375, 2.6670249335443033, 6.870891075887891, 10.222911277233477, 2.935308119326804, 1.7810876759446184, 11.454297841006712, 0.09192022125866205, 0.09189545575471417, 0.09189536835990536, 0.09189536835990536, 0.09189536835990536, 0.09189536835990536, 0.09189536835990536, 0.09191480278051553, 0.09189541205730976, 0.09189536835990536, 0.09192702712939849, 0.5324249500622932, 0.09495417574406961, 0.09201994965987075, 0.09201631185095382, 0.09196829932786124, 0.09196643126382283, 0.09196643126382283, 0.09196643126382283, 0.09196223631299973, 0.09194891952900658, 0.09194695314580824, 7.113398242063344, 23.880441686403213, 4.779908913185461, 4.308212978959708, 4.14559098055982, 3.750927106672523, 2.953116134738051, 2.807050858125581, 2.807050858125581, 2.6096894069825693, 2.4264702177042636, 2.22982281177106, 2.083494139530658, 1.8120193095458987, 1.703598278138268, 15.240372622627381, 1.088693744176242, 7.395028684832413, 2.069774377150116, 10.51287051073506, 8.199167104280825, 0.0938438148806151, 0.0938438148806151, 0.0938438148806151, 0.0938438148806151, 0.09385596778623533, 0.09385596778623533, 0.09385364261296615, 0.0938438148806151, 0.0938438148806151, 6.374677177439206, 3.1095966994855324, 0.5002591997266752, 0.12113561363333115, 0.1169099057385532, 0.09834948913815685, 0.09403930769850977, 0.09391541471615056, 0.09391541471615056, 5.467648109729462, 4.598490815204312, 3.6574524873107377, 4.775620097956752, 2.840946621516685, 1.5534802114824144, 1.0473047028890121, 1.0472119741716437, 0.7861293871985484, 0.7861293871985484, 0.7860240566169849, 16.765157191373163, 1.6389868004806416, 15.517043357769444, 1.047358365827376, 0.7538448813483823, 6.346839428588829, 4.322735142640204, 18.04570150242064, 2.114968347478298, 8.564468862731903, 0.09029252760760231, 0.09028003075894225, 0.09028003075894225, 0.09028003075894225, 0.09028003075894225, 0.09028003075894225, 0.09028003075894225, 0.09028003075894225, 0.09029917640365938, 1.2224241983334154, 0.13522375241316303, 0.09033956800379281, 0.09033175747338026, 0.09032090805592487, 0.09031978570239499, 0.09030894941188146, 0.09030602210384449, 0.09030589739789673, 12.574482735944121, 8.412148962744247, 5.607429813623977, 6.9581985787152485, 2.278045482003143, 2.2056238032737503, 1.5009869453108684, 1.5009869453108684, 1.0604976682399625, 1.0604976682399625, 0.796028922965441, 12.236107127875208, 10.52854413410356, 5.497849305701165, 0.09142808056787978, 0.09142808056787978, 0.09142808056787978, 0.09142808056787978, 8.96322536213876, 0.09146738952949975, 0.09142808056787978, 0.09142808056787978, 0.09142808056787978, 0.09142808056787978, 0.09142808056787978, 0.09142808056787978, 0.09142808056787978, 0.09142808056787978, 0.09142808056787978, 0.09142808056787978, 0.0917009982830925, 0.0915843527517768, 0.0915492267211482, 0.09150718561726047, 0.09150624313407507, 0.09149155522196115, 0.0914798641945828, 0.091463736083444, 0.09146013558588184, 0.09145558201543556, 0.09145526432447419, 0.09145232038823217, 0.09145135672564936, 0.0914505201394511, 18.678440995512567, 3.2376411974045123, 2.494247777441765, 2.14113354430495, 30.073378125179005, 0.8396985459855384, 1.7505159071670717, 1.118682726188236, 0.09643621406077066, 0.09643621406077066, 0.09643621406077066, 0.09643621406077066, 0.09643621406077066, 0.09643621406077066, 0.09643621406077066, 0.09643621406077066, 0.09643621406077066, 0.09643621406077066, 0.09643621406077066, 0.09643621406077066, 0.09646236688841879, 0.09646236688841879, 0.09643621406077066, 0.09643621406077066, 0.09643621406077066, 0.09643621406077066, 0.09643621406077066, 0.09643621406077066, 0.09643621406077066, 0.09643621406077066, 0.10400271128795875, 0.10128478552635216, 0.09648141053205078, 0.09646892793441499, 0.0964591528063928, 0.09645652008287281, 0.0964542278693349, 0.09645403685154007, 0.096453696341558, 0.09645331430596835, 0.09645273294746234, 0.09645230108114361, 0.09645151209459976, 0.09645131277168342, 0.09645103870267346, 0.09645076463366349, 0.09645064005684077, 0.09645001717272722, 0.09644903716838854, 0.09644868835328495, 5.435881300233739, 4.984719640085467, 3.7878202286638754, 3.167428543792848, 2.0814027954576093, 0.9335576168009209, 8.44446281806616, 0.5315886520943784, 12.141485570724857, 0.08047459787729293, 0.08051252368551075, 0.0805086816716111, 0.08047459787729293, 0.08047459787729293, 0.08047459787729293, 0.08047459787729293, 0.08047459787729293, 0.08047459787729293, 0.08047459787729293, 0.0805099519139916, 0.08047459787729293, 0.08047459787729293, 0.08047459787729293, 0.08047459787729293, 0.08047459787729293, 0.08047459787729293, 0.08047459787729293, 0.08047459787729293, 0.08047459787729293, 0.08047459787729293, 3.2278821694597326, 0.08057654890736932, 0.08054424220091351, 0.08053566962918304, 0.08052824841015213, 0.08052127146308681, 0.08051930039732397, 0.08051533323639176, 0.08051035864184743, 0.0805093699802902, 0.0805025306949607, 0.08049943956325642, 0.08049739340927403, 0.08049712434315404, 0.08049158658696318, 0.08048930891097056, 0.08048912744777334, 0.08048624906602442, 4.589375902155822, 2.5074014817339303, 2.2116257704953632, 1.9311374757733695, 0.640388846010368, 7.4230743170952245, 4.483881621669495, 1.6212687795155891, 7.2068906708647456, 3.044706191347985, 4.145336000985297, 0.09694431222137997, 0.09694431222137997, 0.09694431222137997, 0.09698213660604191, 0.09694431222137997, 0.09694431222137997, 0.09694431222137997, 0.09694431222137997, 0.09694431222137997, 0.09694431222137997, 0.09694431222137997, 0.09694431222137997, 0.09694437226961725, 0.09694437226961725, 0.09694431222137997, 0.09694431222137997, 0.09694431222137997, 0.09694431222137997, 0.09694431222137997, 1.0956596410570376, 0.1121868486854116, 0.09728255193232418, 0.09709498525836002, 0.09708716697786632, 0.09701193254137967, 0.09701187849796612, 0.09700090168019154, 0.09697279310032132, 0.09696758091332552, 0.09696757490850179, 0.09696685432965445, 0.09696328746436009, 0.09696319739200417, 0.09696304126658724, 0.09696135391111971, 0.09695796719053718, 0.09695590153117478, 11.66775414980736, 4.837494660071348, 1.8525566443386199, 0.5557737994947405, 3.9429895878430625, 3.936728799654441, 2.8573905623588933, 1.446820370611277, 0.08414462300725842, 0.08414462300725842, 0.08414462300725842, 0.08414646098258133, 0.08414646098258133, 0.08414462300725842, 0.08414462300725842, 0.08414462300725842, 0.0841963515910889, 0.08414661256817497, 0.08414462300725842, 0.08414462300725842, 0.08414462300725842, 0.08414462300725842, 0.08414462300725842, 0.08414462300725842, 0.08414462300725842, 0.08414462300725842, 0.08414462300725842, 0.08414462300725842, 0.08414462300725842, 0.08414462300725842, 0.08448371998023663, 0.08423421956720072, 0.08421223018202295, 0.08419063870902851, 0.084175224348975, 0.08417111258974744, 0.08417047782507406, 0.08416623342845207, 0.08416400701504545, 0.08416392174814902, 0.08416258590010504, 0.08416235852171458, 0.08415890994945922, 0.084158843630762, 0.08415729935252676, 0.08415664563965418, 0.08415616246057445, 0.08415604877137922, 0.08415509188731934, 0.08415429606295273, 0.08415359497958212], \"Total\": [151.0, 67.0, 43.0, 105.0, 50.0, 42.0, 41.0, 137.0, 115.0, 19.0, 33.0, 27.0, 82.0, 79.0, 27.0, 23.0, 12.0, 22.0, 19.0, 17.0, 39.0, 26.0, 26.0, 18.0, 13.0, 13.0, 70.0, 14.0, 29.0, 9.0, 115.96274163955557, 70.3213085939374, 41.71690653934385, 24.670064021230594, 105.69071828645554, 137.95679827794956, 52.615434286727044, 10.158021452647237, 7.545638338244146, 5.8260092901877885, 82.87883658294723, 14.505737959152295, 22.881672433621063, 79.74412916805385, 2.320480643522106, 151.80435992144697, 42.136670564499106, 13.013843983197686, 2.0349946256328506, 29.22991063480279, 39.59615815348439, 1.3932771417522107, 1.4320267281347479, 1.432010872584033, 1.4650550156111288, 1.617455990600986, 1.6174822470078658, 1.6174822470078658, 1.626278688402743, 1.6299365504840508, 43.559367591457246, 2.3976918768485125, 4.049389844632543, 4.124574418603646, 3.697086812239849, 1.8956539327441486, 2.9009660664922827, 11.826718015004708, 50.49998897913364, 26.940856382228297, 26.043508450878143, 11.826718015004708, 11.196654483874214, 10.916718545920041, 8.035815742668875, 7.368676332439991, 6.0342959273985874, 4.065852094583611, 4.049389844632543, 3.697086812239849, 3.1002138776045993, 3.100170308685927, 3.100170308685927, 2.484210458262847, 2.484210458262847, 2.484210458262847, 2.3976918768485125, 39.59615815348439, 19.08369478608581, 6.653704632753293, 41.38158138058904, 1.432010872584033, 1.4320267281347479, 17.802927869606915, 23.640102292567644, 43.559367591457246, 29.22991063480279, 1.3932771417522107, 52.615434286727044, 82.87883658294723, 151.80435992144697, 18.9421896533009, 14.58830563098819, 67.56160760501473, 5.420987461578856, 5.211110633461946, 5.155116862407084, 4.180812797041342, 2.6602819000830538, 2.6041927594047407, 33.25804044793216, 1.8956539327441486, 1.6299365504840508, 15.375383425890858, 6.653704632753293, 27.93039776334473, 79.74412916805385, 29.22991063480279, 22.881672433621063, 151.80435992144697, 1.3932771417522107, 1.432010872584033, 1.4320267281347479, 1.4650550156111288, 1.617455990600986, 1.6174822470078658, 1.6174822470078658, 1.626278688402743, 1.6649357928951876, 1.7747249993400602, 1.8786676417943031, 137.95679827794956, 43.559367591457246, 3.2546116555170044, 105.69071828645554, 115.96274163955557, 2.484210458262847, 2.484210458262847, 2.484210458262847, 7.368676332439991, 9.242451189952332, 10.158021452647237, 7.941245711079343, 27.656058963738975, 5.607783482277131, 5.136312612812212, 4.973386681131809, 4.578701579048489, 3.781007500401154, 3.634860079272561, 3.634860079272561, 3.4375067154839223, 3.2546116555170044, 3.05761620342984, 2.911344277966235, 2.639859111165483, 2.5314396088234568, 23.640102292567644, 1.9164617491326081, 15.375383425890858, 14.505737959152295, 79.74412916805385, 67.56160760501473, 1.3932771417522107, 1.432010872584033, 1.4320267281347479, 1.4650550156111288, 1.6174822470078658, 1.6174822470078658, 1.617455990600986, 1.626278688402743, 1.6299365504840508, 137.95679827794956, 151.80435992144697, 29.22991063480279, 115.96274163955557, 82.87883658294723, 6.062593181256435, 52.615434286727044, 1.8907992511726037, 1.8907992511726037, 6.299044233100839, 5.429855094884342, 4.488928151649367, 6.062593181256435, 3.672452291928903, 2.3848181809346882, 1.8786676417943031, 1.878605496077799, 1.6174822470078658, 1.6174822470078658, 1.617455990600986, 41.38158138058904, 4.124574418603646, 42.136670564499106, 2.9009660664922827, 3.353654784846768, 39.59615815348439, 27.93039776334473, 151.80435992144697, 17.802927869606915, 82.87883658294723, 1.3932771417522107, 1.432010872584033, 1.4320267281347479, 1.4650550156111288, 1.626278688402743, 1.6299365504840508, 1.6649357928951876, 1.7747249993400602, 1.8907992511726037, 29.22991063480279, 52.615434286727044, 11.826718015004708, 5.136312612812212, 2.3976918768485125, 2.911344277966235, 5.8260092901877885, 4.628993352398823, 4.065852094583611, 13.404709119811317, 9.242451189952332, 6.43767069305903, 9.31272115773532, 3.1082472865022583, 3.0359891662411123, 2.331191964448283, 2.331191964448283, 1.8907992511726037, 1.8907992511726037, 1.626278688402743, 27.93039776334473, 33.25804044793216, 29.22991063480279, 1.3932771417522107, 1.432010872584033, 1.4320267281347479, 1.4650550156111288, 151.80435992144697, 1.617455990600986, 1.6174822470078658, 1.6174822470078658, 1.6299365504840508, 1.6649357928951876, 1.7747249993400602, 1.878605496077799, 1.8786676417943031, 1.8956539327441486, 1.9164617491326081, 2.0349946256328506, 67.56160760501473, 11.826718015004708, 5.136312612812212, 5.607783482277131, 3.672452291928903, 4.488928151649367, 7.941245711079343, 3.4375067154839223, 3.353654784846768, 2.639859111165483, 6.299044233100839, 4.065852094583611, 42.136670564499106, 27.656058963738975, 19.50365204782003, 4.062865529769528, 3.3194455309633004, 2.9663784764556422, 43.559367591457246, 1.6649357928951876, 4.124574418603646, 2.9009660664922827, 1.3932771417522107, 1.432010872584033, 1.4320267281347479, 1.4650550156111288, 1.617455990600986, 1.6174822470078658, 1.6174822470078658, 1.626278688402743, 1.6299365504840508, 1.7747249993400602, 1.878605496077799, 1.8786676417943031, 1.8907992511726037, 1.8907992511726037, 1.8956539327441486, 1.9164617491326081, 2.0349946256328506, 2.320480643522106, 2.331191964448283, 2.331191964448283, 2.3848181809346882, 2.3976918768485125, 115.96274163955557, 137.95679827794956, 4.008629535316145, 4.065852094583611, 70.3213085939374, 24.670064021230594, 151.80435992144697, 79.74412916805385, 42.136670564499106, 4.488928151649367, 4.049389844632543, 10.158021452647237, 11.196654483874214, 22.881672433621063, 23.640102292567644, 14.505737959152295, 5.825896786360467, 41.71690653934385, 5.211110633461946, 67.56160760501473, 6.277037516795708, 5.825896786360467, 4.628993352398823, 4.008629535316145, 2.922585715253131, 1.7747249993400602, 17.802927869606915, 6.062593181256435, 151.80435992144697, 1.3932771417522107, 1.4320267281347479, 1.432010872584033, 1.4650550156111288, 1.617455990600986, 1.6174822470078658, 1.6174822470078658, 1.626278688402743, 1.6299365504840508, 1.6649357928951876, 1.878605496077799, 1.8786676417943031, 1.8907992511726037, 1.8907992511726037, 1.8956539327441486, 1.9164617491326081, 2.0349946256328506, 2.320480643522106, 2.331191964448283, 2.331191964448283, 2.3848181809346882, 105.69071828645554, 4.124574418603646, 2.9663784764556422, 10.158021452647237, 3.781007500401154, 5.136312612812212, 14.505737959152295, 29.22991063480279, 41.71690653934385, 11.826718015004708, 39.59615815348439, 22.881672433621063, 33.25804044793216, 41.38158138058904, 7.545638338244146, 5.211110633461946, 52.615434286727044, 10.916718545920041, 5.41406074312517, 3.332097773152036, 3.036318761412708, 2.7558226882454635, 1.4650550156111288, 19.08369478608581, 13.013843983197686, 9.31272115773532, 43.559367591457246, 27.656058963738975, 41.38158138058904, 1.3932771417522107, 1.432010872584033, 1.4320267281347479, 1.617455990600986, 1.6174822470078658, 1.6174822470078658, 1.626278688402743, 1.6299365504840508, 1.6649357928951876, 1.7747249993400602, 1.878605496077799, 1.8786676417943031, 1.8907992511726037, 1.8907992511726037, 1.8956539327441486, 1.9164617491326081, 2.0349946256328506, 2.320480643522106, 2.331191964448283, 82.87883658294723, 33.25804044793216, 137.95679827794956, 105.69071828645554, 3.0359891662411123, 115.96274163955557, 6.653704632753293, 10.158021452647237, 9.242451189952332, 79.74412916805385, 22.881672433621063, 23.640102292567644, 5.8260092901877885, 5.6750093635403225, 14.505737959152295, 18.9421896533009, 67.56160760501473, 7.545638338244146, 12.50525636259447, 5.6750093635403225, 3.353654784846768, 1.3932771417522107, 23.640102292567644, 27.93039776334473, 22.881672433621063, 19.08369478608581, 1.432010872584033, 1.4320267281347479, 1.4650550156111288, 1.6174822470078658, 1.6174822470078658, 1.617455990600986, 1.626278688402743, 1.6299365504840508, 1.6649357928951876, 1.7747249993400602, 1.878605496077799, 1.8786676417943031, 1.8907992511726037, 1.8907992511726037, 1.8956539327441486, 1.9164617491326081, 2.0349946256328506, 2.320480643522106, 2.331191964448283, 2.331191964448283, 2.3848181809346882, 2.3976918768485125, 14.58830563098819, 3.672452291928903, 5.8260092901877885, 5.136312612812212, 151.80435992144697, 2.6602819000830538, 42.136670564499106, 18.9421896533009, 5.211110633461946, 79.74412916805385, 15.375383425890858, 27.656058963738975, 5.607783482277131, 24.670064021230594, 105.69071828645554, 52.615434286727044, 9.242451189952332, 43.559367591457246, 67.56160760501473, 29.22991063480279, 3.3194455309633004], \"Category\": [\"Default\", \"Default\", \"Default\", \"Default\", \"Default\", \"Default\", \"Default\", \"Default\", \"Default\", \"Default\", \"Default\", \"Default\", \"Default\", \"Default\", \"Default\", \"Default\", \"Default\", \"Default\", \"Default\", \"Default\", \"Default\", \"Default\", \"Default\", \"Default\", \"Default\", \"Default\", \"Default\", \"Default\", \"Default\", \"Default\", \"Topic1\", \"Topic1\", \"Topic1\", \"Topic1\", \"Topic1\", \"Topic1\", \"Topic1\", \"Topic1\", \"Topic1\", \"Topic1\", \"Topic1\", \"Topic1\", \"Topic1\", \"Topic1\", \"Topic1\", \"Topic1\", \"Topic1\", \"Topic1\", \"Topic1\", \"Topic1\", \"Topic1\", \"Topic1\", \"Topic1\", \"Topic1\", \"Topic1\", \"Topic1\", \"Topic1\", \"Topic1\", \"Topic1\", \"Topic1\", \"Topic1\", \"Topic1\", \"Topic1\", \"Topic1\", \"Topic1\", \"Topic1\", \"Topic1\", \"Topic1\", \"Topic2\", \"Topic2\", \"Topic2\", \"Topic2\", \"Topic2\", \"Topic2\", \"Topic2\", \"Topic2\", \"Topic2\", \"Topic2\", \"Topic2\", \"Topic2\", \"Topic2\", \"Topic2\", \"Topic2\", \"Topic2\", \"Topic2\", \"Topic2\", \"Topic2\", \"Topic2\", \"Topic2\", \"Topic2\", \"Topic2\", \"Topic2\", \"Topic2\", \"Topic2\", \"Topic2\", \"Topic2\", \"Topic2\", \"Topic2\", \"Topic2\", \"Topic2\", \"Topic2\", \"Topic3\", \"Topic3\", \"Topic3\", \"Topic3\", \"Topic3\", \"Topic3\", \"Topic3\", \"Topic3\", \"Topic3\", \"Topic3\", \"Topic3\", \"Topic3\", \"Topic3\", \"Topic3\", \"Topic3\", \"Topic3\", \"Topic3\", \"Topic3\", \"Topic3\", \"Topic3\", \"Topic3\", \"Topic3\", \"Topic3\", \"Topic3\", \"Topic3\", \"Topic3\", \"Topic3\", \"Topic3\", \"Topic3\", \"Topic3\", \"Topic3\", \"Topic3\", \"Topic3\", \"Topic3\", \"Topic3\", \"Topic3\", \"Topic3\", \"Topic3\", \"Topic3\", \"Topic3\", \"Topic3\", \"Topic4\", \"Topic4\", \"Topic4\", \"Topic4\", \"Topic4\", \"Topic4\", \"Topic4\", \"Topic4\", \"Topic4\", \"Topic4\", \"Topic4\", \"Topic4\", \"Topic4\", \"Topic4\", \"Topic4\", \"Topic4\", \"Topic4\", \"Topic4\", \"Topic4\", \"Topic4\", \"Topic4\", \"Topic4\", \"Topic4\", \"Topic4\", \"Topic4\", \"Topic4\", \"Topic4\", \"Topic4\", \"Topic4\", \"Topic4\", \"Topic4\", \"Topic4\", \"Topic4\", \"Topic4\", \"Topic4\", \"Topic4\", \"Topic4\", \"Topic4\", \"Topic4\", \"Topic5\", \"Topic5\", \"Topic5\", \"Topic5\", \"Topic5\", \"Topic5\", \"Topic5\", \"Topic5\", \"Topic5\", \"Topic5\", \"Topic5\", \"Topic5\", \"Topic5\", \"Topic5\", \"Topic5\", \"Topic5\", \"Topic5\", \"Topic5\", \"Topic5\", \"Topic5\", \"Topic5\", \"Topic5\", \"Topic5\", \"Topic5\", \"Topic5\", \"Topic5\", \"Topic5\", \"Topic5\", \"Topic5\", \"Topic5\", \"Topic5\", \"Topic5\", \"Topic5\", \"Topic5\", \"Topic5\", \"Topic5\", \"Topic5\", \"Topic5\", \"Topic5\", \"Topic6\", \"Topic6\", \"Topic6\", \"Topic6\", \"Topic6\", \"Topic6\", \"Topic6\", \"Topic6\", \"Topic6\", \"Topic6\", \"Topic6\", \"Topic6\", \"Topic6\", \"Topic6\", \"Topic6\", \"Topic6\", \"Topic6\", \"Topic6\", \"Topic6\", \"Topic6\", \"Topic6\", \"Topic6\", \"Topic6\", \"Topic6\", \"Topic6\", \"Topic6\", \"Topic6\", \"Topic6\", \"Topic6\", \"Topic6\", \"Topic6\", \"Topic6\", \"Topic6\", \"Topic6\", \"Topic6\", \"Topic6\", \"Topic6\", \"Topic6\", \"Topic6\", \"Topic6\", \"Topic6\", \"Topic6\", \"Topic6\", \"Topic6\", \"Topic7\", \"Topic7\", \"Topic7\", \"Topic7\", \"Topic7\", \"Topic7\", \"Topic7\", \"Topic7\", \"Topic7\", \"Topic7\", \"Topic7\", \"Topic7\", \"Topic7\", \"Topic7\", \"Topic7\", \"Topic7\", \"Topic7\", \"Topic7\", \"Topic7\", \"Topic7\", \"Topic7\", \"Topic7\", \"Topic7\", \"Topic7\", \"Topic7\", \"Topic7\", \"Topic7\", \"Topic7\", \"Topic7\", \"Topic7\", \"Topic7\", \"Topic7\", \"Topic7\", \"Topic7\", \"Topic7\", \"Topic7\", \"Topic7\", \"Topic7\", \"Topic7\", \"Topic7\", \"Topic7\", \"Topic7\", \"Topic7\", \"Topic7\", \"Topic7\", \"Topic7\", \"Topic7\", \"Topic7\", \"Topic7\", \"Topic7\", \"Topic8\", \"Topic8\", \"Topic8\", \"Topic8\", \"Topic8\", \"Topic8\", \"Topic8\", \"Topic8\", \"Topic8\", \"Topic8\", \"Topic8\", \"Topic8\", \"Topic8\", \"Topic8\", \"Topic8\", \"Topic8\", \"Topic8\", \"Topic8\", \"Topic8\", \"Topic8\", \"Topic8\", \"Topic8\", \"Topic8\", \"Topic8\", \"Topic8\", \"Topic8\", \"Topic8\", \"Topic8\", \"Topic8\", \"Topic8\", \"Topic8\", \"Topic8\", \"Topic8\", \"Topic8\", \"Topic8\", \"Topic8\", \"Topic8\", \"Topic8\", \"Topic8\", \"Topic8\", \"Topic8\", \"Topic8\", \"Topic8\", \"Topic8\", \"Topic8\", \"Topic8\", \"Topic8\", \"Topic8\", \"Topic9\", \"Topic9\", \"Topic9\", \"Topic9\", \"Topic9\", \"Topic9\", \"Topic9\", \"Topic9\", \"Topic9\", \"Topic9\", \"Topic9\", \"Topic9\", \"Topic9\", \"Topic9\", \"Topic9\", \"Topic9\", \"Topic9\", \"Topic9\", \"Topic9\", \"Topic9\", \"Topic9\", \"Topic9\", \"Topic9\", \"Topic9\", \"Topic9\", \"Topic9\", \"Topic9\", \"Topic9\", \"Topic9\", \"Topic9\", \"Topic9\", \"Topic9\", \"Topic9\", \"Topic9\", \"Topic9\", \"Topic9\", \"Topic9\", \"Topic9\", \"Topic9\", \"Topic9\", \"Topic9\", \"Topic9\", \"Topic9\", \"Topic9\", \"Topic9\", \"Topic9\", \"Topic9\", \"Topic9\", \"Topic10\", \"Topic10\", \"Topic10\", \"Topic10\", \"Topic10\", \"Topic10\", \"Topic10\", \"Topic10\", \"Topic10\", \"Topic10\", \"Topic10\", \"Topic10\", \"Topic10\", \"Topic10\", \"Topic10\", \"Topic10\", \"Topic10\", \"Topic10\", \"Topic10\", \"Topic10\", \"Topic10\", \"Topic10\", \"Topic10\", \"Topic10\", \"Topic10\", \"Topic10\", \"Topic10\", \"Topic10\", \"Topic10\", \"Topic10\", \"Topic10\", \"Topic10\", \"Topic10\", \"Topic10\", \"Topic10\", \"Topic10\", \"Topic10\", \"Topic10\", \"Topic10\", \"Topic10\", \"Topic10\", \"Topic10\", \"Topic10\", \"Topic10\", \"Topic10\", \"Topic10\", \"Topic10\", \"Topic10\", \"Topic10\", \"Topic10\", \"Topic10\"], \"logprob\": [30.0, 29.0, 28.0, 27.0, 26.0, 25.0, 24.0, 23.0, 22.0, 21.0, 20.0, 19.0, 18.0, 17.0, 16.0, 15.0, 14.0, 13.0, 12.0, 11.0, 10.0, 9.0, 8.0, 7.0, 6.0, 5.0, 4.0, 3.0, 2.0, 1.0, -2.0283, -2.5328, -3.0631, -3.6023, -2.1519, -1.9035, -2.8866, -4.5398, -4.8678, -5.1629, -2.5377, -4.3135, -3.9062, -2.7073, -6.3661, -2.2359, -3.5202, -4.7188, -6.5767, -4.0072, -4.4456, -9.0273, -9.0269, -9.0271, -9.0273, -9.0272, -9.0273, -9.0273, -9.0273, -9.0273, -9.0019, -9.0266, -9.0268, -9.0269, -9.0269, -9.027, -9.0271, -9.0271, -1.6859, -2.329, -2.3639, -3.1938, -3.2528, -3.2801, -3.6165, -3.7137, -3.9419, -4.4172, -4.4223, -4.5382, -4.7717, -4.7717, -4.7717, -5.0883, -5.0883, -5.0883, -5.1421, -2.4844, -3.3333, -4.4133, -2.6042, -6.0997, -6.0998, -3.7067, -4.2552, -3.8621, -4.5597, -7.9872, -4.476, -4.3415, -4.1385, -2.3381, -2.6131, -1.1636, -3.7106, -3.7574, -3.7702, -4.0255, -4.6301, -4.6612, -2.1448, -5.1709, -5.4576, -3.2545, -4.2538, -3.3074, -2.9101, -4.1579, -4.6575, -2.7964, -7.6216, -7.6218, -7.6218, -7.6218, -7.6218, -7.6218, -7.6218, -7.6216, -7.6218, -7.6218, -7.6215, -5.865, -7.5891, -7.6205, -7.6205, -7.621, -7.6211, -7.6211, -7.6211, -7.6211, -7.6213, -7.6213, -2.9295, -1.7184, -3.3271, -3.431, -3.4695, -3.5695, -3.8086, -3.8594, -3.8594, -3.9323, -4.0051, -4.0896, -4.1575, -4.2971, -4.3588, -2.1676, -4.8065, -2.8907, -4.1641, -2.5389, -2.7875, -7.2576, -7.2576, -7.2576, -7.2576, -7.2575, -7.2575, -7.2575, -7.2576, -7.2576, -3.0392, -3.757, -5.5841, -7.0024, -7.0379, -7.2107, -7.2555, -7.2569, -7.2569, -3.0264, -3.1995, -3.4285, -3.1617, -3.6811, -4.2848, -4.679, -4.6791, -4.9659, -4.9659, -4.966, -1.906, -4.2312, -1.9833, -4.679, -5.0078, -2.8773, -3.2614, -1.8324, -3.9762, -2.5776, -7.13, -7.1301, -7.1301, -7.1301, -7.1301, -7.1301, -7.1301, -7.1301, -7.1299, -4.5244, -6.7261, -7.1294, -7.1295, -7.1296, -7.1297, -7.1298, -7.1298, -7.1298, -1.9788, -2.3808, -2.7864, -2.5706, -3.6872, -3.7195, -4.1043, -4.1043, -4.4517, -4.4517, -4.7386, -2.0061, -2.1564, -2.8061, -6.9027, -6.9027, -6.9027, -6.9027, -2.3173, -6.9022, -6.9027, -6.9027, -6.9027, -6.9027, -6.9027, -6.9027, -6.9027, -6.9027, -6.9027, -6.9027, -6.8997, -6.901, -6.9014, -6.9018, -6.9018, -6.902, -6.9021, -6.9023, -6.9023, -6.9024, -6.9024, -6.9024, -6.9024, -6.9024, -1.3401, -3.0926, -3.3535, -3.5061, -0.8638, -4.4422, -3.7076, -4.1553, -6.6063, -6.6063, -6.6063, -6.6063, -6.6063, -6.6063, -6.6063, -6.6063, -6.6063, -6.6063, -6.6063, -6.6063, -6.6061, -6.6061, -6.6063, -6.6063, -6.6063, -6.6063, -6.6063, -6.6063, -6.6063, -6.6063, -6.5308, -6.5573, -6.6059, -6.606, -6.6061, -6.6061, -6.6062, -6.6062, -6.6062, -6.6062, -6.6062, -6.6062, -6.6062, -6.6062, -6.6062, -6.6062, -6.6062, -6.6062, -6.6062, -6.6062, -2.2913, -2.378, -2.6526, -2.8314, -3.2513, -4.0531, -1.8508, -4.6162, -1.4877, -6.5042, -6.5037, -6.5037, -6.5042, -6.5042, -6.5042, -6.5042, -6.5042, -6.5042, -6.5042, -6.5037, -6.5042, -6.5042, -6.5042, -6.5042, -6.5042, -6.5042, -6.5042, -6.5042, -6.5042, -6.5042, -2.8125, -6.5029, -6.5033, -6.5034, -6.5035, -6.5036, -6.5036, -6.5037, -6.5037, -6.5037, -6.5038, -6.5039, -6.5039, -6.5039, -6.504, -6.504, -6.504, -6.504, -2.4194, -3.0239, -3.1494, -3.285, -4.3888, -1.9386, -2.4427, -3.4599, -1.9681, -2.8297, -2.5212, -6.2768, -6.2768, -6.2768, -6.2764, -6.2768, -6.2768, -6.2768, -6.2768, -6.2768, -6.2768, -6.2768, -6.2768, -6.2768, -6.2768, -6.2768, -6.2768, -6.2768, -6.2768, -6.2768, -3.8518, -6.1307, -6.2733, -6.2752, -6.2753, -6.2761, -6.2761, -6.2762, -6.2765, -6.2765, -6.2765, -6.2765, -6.2766, -6.2766, -6.2766, -6.2766, -6.2766, -6.2767, -1.2492, -2.1296, -3.0894, -4.2934, -2.3341, -2.3357, -2.6561, -3.3366, -6.1812, -6.1812, -6.1812, -6.1812, -6.1812, -6.1812, -6.1812, -6.1812, -6.1806, -6.1812, -6.1812, -6.1812, -6.1812, -6.1812, -6.1812, -6.1812, -6.1812, -6.1812, -6.1812, -6.1812, -6.1812, -6.1812, -6.1772, -6.1802, -6.1804, -6.1807, -6.1809, -6.1809, -6.1809, -6.181, -6.181, -6.181, -6.181, -6.181, -6.1811, -6.1811, -6.1811, -6.1811, -6.1811, -6.1811, -6.1811, -6.1811, -6.1811], \"loglift\": [30.0, 29.0, 28.0, 27.0, 26.0, 25.0, 24.0, 23.0, 22.0, 21.0, 20.0, 19.0, 18.0, 17.0, 16.0, 15.0, 14.0, 13.0, 12.0, 11.0, 10.0, 9.0, 8.0, 7.0, 6.0, 5.0, 4.0, 3.0, 2.0, 1.0, 0.7601, 0.7558, 0.7477, 0.7338, 0.7292, 0.7112, 0.6921, 0.6836, 0.6529, 0.6164, 0.5866, 0.5536, 0.5052, 0.4556, 0.3338, 0.2832, 0.2805, 0.2569, 0.2545, 0.1592, -0.5827, -1.8173, -1.8443, -1.8445, -1.8676, -1.9664, -1.9665, -1.9665, -1.9719, -1.9742, -5.2343, -2.3594, -2.8837, -2.9021, -2.7928, -2.1249, -2.5504, -3.9558, 1.9338, 1.9191, 1.918, 1.8775, 1.8733, 1.8713, 1.8413, 1.8308, 1.8023, 1.7218, 1.7208, 1.6959, 1.6386, 1.6385, 1.6385, 1.5434, 1.5434, 1.5434, 1.5251, 1.3785, 1.2596, 1.2332, 1.2146, 1.0829, 1.0828, 0.9556, 0.1235, -0.0945, -0.3932, -0.7771, -0.8973, -1.2172, -1.6194, 2.2622, 2.2484, 2.1651, 2.1408, 2.1335, 2.1315, 2.0857, 1.9331, 1.9233, 1.8926, 1.7312, 1.5955, 1.5544, 1.3927, 0.9045, 0.2528, 0.0086, -0.2462, -0.2773, -0.4115, -0.4392, -0.4392, -0.462, -0.561, -0.561, -0.561, -0.5662, -0.5899, -0.6538, -0.7104, -3.2503, -3.8215, -1.2589, -4.7394, -4.8326, -0.9893, -0.9893, -0.9893, -2.0767, -2.3034, -2.3979, 2.5401, 2.5034, 2.4904, 2.4744, 2.4681, 2.4508, 2.403, 2.3917, 2.3917, 2.3747, 2.3565, 2.3345, 2.3156, 2.2739, 2.2541, 2.2112, 2.0847, 1.9182, 0.7031, 0.624, 0.5412, -0.0476, -0.075, -0.075, -0.0978, -0.1967, -0.1967, -0.1967, -0.2022, -0.2045, -0.4244, -1.2379, -1.4176, -4.2139, -3.9136, -1.4712, -3.6769, -0.3522, -0.3522, 2.6749, 2.6502, 2.6116, 2.5778, 2.5597, 2.3878, 2.2321, 2.232, 2.0949, 2.0949, 2.0948, 1.9129, 1.8935, 1.8174, 1.7977, 1.3238, 0.9857, 0.9506, 0.6867, 0.6861, 0.5467, 0.0801, 0.0525, 0.0525, 0.0297, -0.0747, -0.077, -0.0982, -0.1621, -0.2252, -0.3579, -3.1474, -2.0581, -1.2242, -0.4625, -0.6566, -1.3504, -1.1205, -0.9908, 2.9673, 2.9371, 2.8931, 2.7397, 2.7205, 2.7117, 2.591, 2.591, 2.4529, 2.4529, 2.3168, 2.2059, 1.881, 1.3604, 0.3073, 0.2799, 0.2799, 0.2571, 0.2017, 0.1586, 0.1581, 0.1581, 0.1505, 0.1292, 0.0654, 0.0085, 0.0084, -0.0006, -0.0115, -0.0715, -3.5711, -1.8296, -0.996, -1.0843, -0.661, -0.8619, -1.4325, -0.5953, -0.5707, -0.3314, -1.2011, -0.7634, -3.1017, -2.6806, 3.231, 3.0472, 2.9884, 2.9482, 2.9037, 2.5897, 2.4172, 2.3213, 0.6037, 0.5763, 0.5763, 0.5535, 0.4545, 0.4545, 0.4545, 0.4491, 0.4468, 0.3617, 0.3048, 0.3048, 0.2986, 0.2986, 0.2958, 0.2849, 0.2249, 0.0936, 0.089, 0.089, 0.0662, 0.0608, -3.7424, -3.9425, -0.4526, -0.4669, -3.3175, -2.27, -4.0871, -3.4433, -2.8054, -0.5661, -0.463, -1.3828, -1.4801, -2.1948, -2.2274, -1.739, -0.8268, -2.7954, -0.7153, -3.2776, 3.4135, 3.4014, 3.3568, 3.3218, 3.2179, 2.9149, 2.8115, 1.1233, 1.0314, 0.7059, 0.6789, 0.6789, 0.6556, 0.5567, 0.5567, 0.5567, 0.5512, 0.549, 0.5277, 0.4074, 0.407, 0.4005, 0.4005, 0.398, 0.387, 0.327, 0.1957, 0.1911, 0.1911, 0.1684, 0.0686, -0.3782, -0.049, -1.28, -0.2918, -0.5982, -1.6365, -2.3372, -2.6929, -1.4324, -2.6409, -2.0925, -2.4665, -2.685, -0.9832, -0.6131, -2.9253, -1.3526, 3.4333, 3.3142, 3.2816, 3.2429, 2.771, 2.6543, 2.533, 1.8504, 1.7994, 1.3921, 1.2977, 0.9333, 0.9058, 0.9058, 0.7844, 0.784, 0.784, 0.7786, 0.7764, 0.7551, 0.6913, 0.6344, 0.6343, 0.6279, 0.6279, 0.6253, 0.6144, 0.5544, 0.4231, 0.4185, -0.7275, -2.0934, -3.6585, -3.3941, 0.1558, -3.4877, -0.6296, -1.0528, -0.9586, -3.1137, -1.8652, -1.8978, -0.4972, -0.471, -1.4094, -1.6763, -2.948, -0.7559, 3.7664, 3.676, 3.2422, 2.9166, 2.0447, 1.8763, 1.7553, 1.2562, 1.0014, 1.0014, 0.9786, 0.8796, 0.8796, 0.8796, 0.8742, 0.8719, 0.8513, 0.7868, 0.7299, 0.7299, 0.7235, 0.7235, 0.7209, 0.71, 0.65, 0.5187, 0.5141, 0.5141, 0.4913, 0.486, -1.3157, 0.0607, -0.4011, -0.2753, -3.6618, 0.3823, -2.3802, -1.5807, -0.2901, -3.0181, -1.3721, -1.9592, -0.3635, -1.845, -3.2999, -2.6024, -0.8632, -2.4135, -2.8525, -2.0146, 0.1608]}, \"token.table\": {\"Topic\": [2, 9, 6, 10, 3, 5, 6, 10, 8, 1, 8, 1, 2, 2, 4, 10, 5, 7, 1, 5, 7, 3, 2, 5, 9, 4, 2, 5, 2, 1, 3, 10, 4, 4, 1, 6, 3, 3, 6, 5, 7, 10, 8, 4, 5, 10, 3, 3, 4, 5, 9, 2, 7, 2, 2, 4, 4, 9, 8, 4, 3, 9, 8, 4, 1, 6, 9, 9, 1, 4, 6, 2, 2, 6, 1, 2, 7, 5, 1, 10, 1, 3, 1, 4, 2, 4, 1, 3, 4, 3, 5, 2, 8, 1, 2, 3, 4, 5, 6, 2, 6, 2, 2, 3, 3, 6, 3, 4, 1, 2, 4, 1, 5, 1, 3, 4, 1, 2, 3, 4, 5, 6, 8, 4, 4, 1, 2, 5, 2, 9, 10, 2, 7, 9, 9, 6, 5, 8, 2, 7, 6, 3, 2, 4, 4, 2, 5, 5, 3, 3, 2, 2, 5, 8, 2, 5, 8, 2, 5, 6, 1, 9, 1, 1, 2, 5, 9, 5, 7, 2, 6, 4], \"Freq\": [0.6451258482143655, 0.6586923696606413, 0.528876875416487, 0.7177322946261658, 0.25062299718433134, 0.14321314124818932, 0.429639423744568, 0.14321314124818932, 0.6843255236491074, 0.9650800151016808, 0.028384706326520025, 0.9312856705311071, 0.057017490032516764, 0.16920400557055054, 0.6345150208895645, 0.16920400557055054, 0.48489851243297244, 0.48489851243297244, 0.4914017891762324, 0.9208348864982928, 0.6742227992395923, 0.9223411851507504, 0.4833068078297619, 0.41081078665529763, 0.09666136156595238, 0.8736101121556932, 0.9499670882792173, 0.5322921296738291, 0.6451258482143655, 0.786655785420291, 0.08740619838003234, 0.13110929757004852, 0.8042809169002132, 0.5217949173536078, 0.9828149640322029, 0.8579302050199605, 0.9596727923125957, 0.7675906886940611, 0.865571246802685, 0.34471275329640616, 0.34471275329640616, 0.9595964810361038, 0.7965541048020359, 0.6145126398136413, 0.29818215175826185, 0.5963643035165237, 0.9502597286509211, 0.8732770295362355, 0.1184104446828794, 0.7937712159132819, 0.9003337249501283, 0.8341355364763414, 0.9741765261918562, 0.8050847678173594, 0.8050847678173594, 0.8814737957590015, 0.8678026045383911, 0.10847532556729889, 0.8641187609239342, 0.7576161892658776, 0.7679923050155298, 0.6825682239535987, 0.5634675796936734, 0.8253412606188641, 0.8859993101958403, 0.7516600015652428, 0.21476000044721222, 0.9235212232055303, 0.8272588429345425, 0.13787647382242377, 0.6149007590956963, 0.9900992259752723, 0.7408523543309847, 0.6434494477595507, 0.9916978365124547, 0.9300974273711574, 0.7383951002114951, 0.8168928447602223, 0.9276882466684568, 0.8810558150129251, 0.9728389832854123, 0.7518000253798517, 0.8582203959786058, 0.7900642752957258, 0.8931239250440679, 0.7934393147016261, 0.94232398564427, 0.0072486460434174615, 0.04349187626050477, 0.775928093729436, 0.6182448072304172, 0.9650769682715454, 0.8582369690630208, 0.5473844993884276, 0.10263459363533017, 0.10263459363533017, 0.034211531211776725, 0.034211531211776725, 0.17105765605888362, 0.9599321092683671, 0.528876875416487, 0.6983109884426013, 0.45087664174816316, 0.45087664174816316, 0.6614941741514379, 0.3307470870757189, 0.45527319911987274, 0.45527319911987274, 0.8618904042932806, 0.737852713333202, 0.8916178764394216, 0.6170397340767939, 0.3797167594318732, 0.7273262697216246, 0.125401080986487, 0.1379411890851357, 0.6192180517650577, 0.026349704330427985, 0.07246168690867696, 0.01976227824782099, 0.11857366948692594, 0.05928683474346297, 0.07904911299128396, 0.8253412606188641, 0.6541043306077875, 0.2525497539745537, 0.5556094587440181, 0.1515298523847322, 0.524007542150126, 0.3668052795050882, 0.0524007542150126, 0.13774304659961834, 0.6887152329980917, 0.16070022103288806, 0.7257360963499907, 0.8579302050199605, 0.8910813149304427, 0.7483854453423323, 0.6983187203009997, 0.6006237623500673, 0.6587638790807081, 0.5275224463319631, 0.9160261811217391, 0.6869678777382973, 0.8727255677746854, 0.828597082436347, 0.6182448072304172, 0.5323097383073913, 0.7175638196771273, 0.6135208144777321, 0.8050847678173594, 0.8711001128150734, 0.8247295918615111, 0.1649459183723022, 0.3931937516834167, 0.11234107190954763, 0.44936428763819053, 0.6451167819251596, 0.8386383565795086, 0.9320141221993665, 0.614729976041582, 0.307364988020791, 0.9954308501880594, 0.8325406442082842, 0.03619741931340366, 0.10859225794021099, 0.01206580643780122, 0.6182548432915553, 0.6025102630376952, 0.8114497041475949, 0.9698084370056802, 0.7787687980716457], \"Term\": [\"access\", \"account\", \"adversarial\", \"asset\", \"attack\", \"attack\", \"attack\", \"attack\", \"audit\", \"authentication\", \"authentication\", \"authorise\", \"authorise\", \"availability\", \"availability\", \"availability\", \"backdoor\", \"backdoor\", \"burp\", \"bypass\", \"captcha\", \"cbc\", \"certificate\", \"certificate\", \"certificate\", \"checksum\", \"cipher\", \"confidential\", \"control\", \"cookie\", \"cookie\", \"cookie\", \"crack\", \"crc\", \"credential\", \"cross\", \"crypt\", \"csrf\", \"danger\", \"day\", \"day\", \"decode\", \"delegation\", \"disclosure\", \"eavesdropping\", \"eavesdropping\", \"encode\", \"encrypt\", \"encrypt\", \"exploit\", \"fingerprint\", \"firewall\", \"forge\", \"fraud\", \"gnupg\", \"hack\", \"hash\", \"hash\", \"hijacking\", \"hmac\", \"honeypot\", \"hsm\", \"illegitimate\", \"information\", \"inject\", \"injection\", \"injection\", \"insecure\", \"integrity\", \"integrity\", \"intruder\", \"key\", \"ldap\", \"leak\", \"login\", \"malicious\", \"md\", \"mitm\", \"name\", \"nonce\", \"oauth\", \"obfuscate\", \"openid\", \"openssh\", \"openssl\", \"owasp\", \"password\", \"password\", \"password\", \"pbkdf\", \"penetration\", \"private\", \"privilege\", \"protect\", \"protect\", \"protect\", \"protect\", \"protect\", \"protect\", \"public\", \"rainbow\", \"rbac\", \"rsa\", \"rsa\", \"safe\", \"safe\", \"salt\", \"salt\", \"saml\", \"sandbox\", \"sanitise\", \"script\", \"script\", \"scripting\", \"scripting\", \"scripting\", \"security\", \"security\", \"security\", \"security\", \"security\", \"security\", \"security\", \"sensitive\", \"sftp\", \"sign\", \"sign\", \"sign\", \"signature\", \"signature\", \"signature\", \"signing\", \"signing\", \"signing\", \"single\", \"site\", \"snif\", \"spam\", \"spnego\", \"spoof\", \"sql\", \"ssh\", \"ssl\", \"steal\", \"table\", \"tamper\", \"test\", \"theft\", \"thread\", \"threadsafe\", \"threat\", \"tls\", \"transport\", \"transport\", \"trust\", \"trust\", \"trust\", \"tunnel\", \"tunnelling\", \"unsafe\", \"user\", \"user\", \"username\", \"validate\", \"validate\", \"validate\", \"validate\", \"vector\", \"violate\", \"virus\", \"vulnerability\", \"xss\"]}, \"R\": 30, \"lambda.step\": 0.01, \"plot.opts\": {\"xlab\": \"PC1\", \"ylab\": \"PC2\"}, \"topic.order\": [7, 5, 2, 1, 8, 9, 10, 4, 6, 3]};\n",
       "\n",
       "function LDAvis_load_lib(url, callback){\n",
       "  var s = document.createElement('script');\n",
       "  s.src = url;\n",
       "  s.async = true;\n",
       "  s.onreadystatechange = s.onload = callback;\n",
       "  s.onerror = function(){console.warn(\"failed to load library \" + url);};\n",
       "  document.getElementsByTagName(\"head\")[0].appendChild(s);\n",
       "}\n",
       "\n",
       "if(typeof(LDAvis) !== \"undefined\"){\n",
       "   // already loaded: just create the visualization\n",
       "   !function(LDAvis){\n",
       "       new LDAvis(\"#\" + \"ldavis_el660828168287412164174305567\", ldavis_el660828168287412164174305567_data);\n",
       "   }(LDAvis);\n",
       "}else if(typeof define === \"function\" && define.amd){\n",
       "   // require.js is available: use it to load d3/LDAvis\n",
       "   require.config({paths: {d3: \"https://d3js.org/d3.v5\"}});\n",
       "   require([\"d3\"], function(d3){\n",
       "      window.d3 = d3;\n",
       "      LDAvis_load_lib(\"https://cdn.jsdelivr.net/gh/bmabey/pyLDAvis@3.3.1/pyLDAvis/js/ldavis.v3.0.0.js\", function(){\n",
       "        new LDAvis(\"#\" + \"ldavis_el660828168287412164174305567\", ldavis_el660828168287412164174305567_data);\n",
       "      });\n",
       "    });\n",
       "}else{\n",
       "    // require.js not available: dynamically load d3 & LDAvis\n",
       "    LDAvis_load_lib(\"https://d3js.org/d3.v5.js\", function(){\n",
       "         LDAvis_load_lib(\"https://cdn.jsdelivr.net/gh/bmabey/pyLDAvis@3.3.1/pyLDAvis/js/ldavis.v3.0.0.js\", function(){\n",
       "                 new LDAvis(\"#\" + \"ldavis_el660828168287412164174305567\", ldavis_el660828168287412164174305567_data);\n",
       "            })\n",
       "         });\n",
       "}\n",
       "</script>"
      ],
      "text/plain": [
       "PreparedData(topic_coordinates=              x         y  topics  cluster       Freq\n",
       "topic                                                \n",
       "6     -0.209048  0.176779       1        1  46.418907\n",
       "4      0.186967  0.163538       2        1  14.221946\n",
       "1     -0.212845 -0.177530       3        1   9.956442\n",
       "0     -0.098566 -0.198221       4        1   7.063868\n",
       "7     -0.020203  0.203358       5        1   5.981940\n",
       "8     -0.106086 -0.047469       6        1   4.825720\n",
       "9      0.261473 -0.097180       7        1   3.784639\n",
       "3     -0.080846  0.138963       8        1   2.851472\n",
       "5      0.224413 -0.037407       9        1   2.736395\n",
       "2      0.054741 -0.124830      10        1   2.158671, topic_info=              Term        Freq       Total Category  logprob  loglift\n",
       "7         security  151.000000  151.000000  Default  30.0000  30.0000\n",
       "3          encrypt   67.000000   67.000000  Default  29.0000  29.0000\n",
       "25         signing   43.000000   43.000000  Default  28.0000  28.0000\n",
       "0   authentication  105.000000  105.000000  Default  27.0000  27.0000\n",
       "4              key   50.000000   50.000000  Default  26.0000  26.0000\n",
       "..             ...         ...         ...      ...      ...      ...\n",
       "48          danger    0.084156    9.242451  Topic10  -6.1811  -0.8632\n",
       "25         signing    0.084156   43.559368  Topic10  -6.1811  -2.4135\n",
       "3          encrypt    0.084155   67.561608  Topic10  -6.1811  -2.8525\n",
       "37         protect    0.084154   29.229911  Topic10  -6.1811  -2.0146\n",
       "97         violate    0.084154    3.319446  Topic10  -6.1811   0.1608\n",
       "\n",
       "[461 rows x 6 columns], token_table=      Topic      Freq           Term\n",
       "term                                \n",
       "54        2  0.645126         access\n",
       "42        9  0.658692        account\n",
       "114       6  0.528877    adversarial\n",
       "74       10  0.717732          asset\n",
       "33        3  0.250623         attack\n",
       "...     ...       ...            ...\n",
       "88        5  0.618255         vector\n",
       "97        7  0.602510        violate\n",
       "70        2  0.811450          virus\n",
       "32        6  0.969808  vulnerability\n",
       "102       4  0.778769            xss\n",
       "\n",
       "[172 rows x 3 columns], R=30, lambda_step=0.01, plot_opts={'xlab': 'PC1', 'ylab': 'PC2'}, topic_order=[7, 5, 2, 1, 8, 9, 10, 4, 6, 3])"
      ]
     },
     "execution_count": 20,
     "metadata": {},
     "output_type": "execute_result"
    }
   ],
   "source": [
    "#### Visualize the topics\n",
    "pyLDAvis.enable_notebook()\n",
    "vis =gensimvis.prepare(lda_model, corpus, id2word)\n",
    "vis"
   ]
  },
  {
   "cell_type": "code",
   "execution_count": null,
   "id": "e0b80636",
   "metadata": {},
   "outputs": [],
   "source": []
  },
  {
   "cell_type": "markdown",
   "id": "7681b2a3",
   "metadata": {},
   "source": []
  },
  {
   "cell_type": "code",
   "execution_count": null,
   "id": "358ada2b",
   "metadata": {},
   "outputs": [],
   "source": []
  }
 ],
 "metadata": {
  "kernelspec": {
   "display_name": "Python 3",
   "language": "python",
   "name": "python3"
  },
  "language_info": {
   "codemirror_mode": {
    "name": "ipython",
    "version": 3
   },
   "file_extension": ".py",
   "mimetype": "text/x-python",
   "name": "python",
   "nbconvert_exporter": "python",
   "pygments_lexer": "ipython3",
   "version": "3.8.8"
  }
 },
 "nbformat": 4,
 "nbformat_minor": 5
}
