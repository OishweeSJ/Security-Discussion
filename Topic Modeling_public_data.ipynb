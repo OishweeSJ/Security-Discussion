{
 "cells": [
  {
   "cell_type": "code",
   "execution_count": 1,
   "id": "6deebf24",
   "metadata": {},
   "outputs": [],
   "source": [
    "#importing the libraries\n",
    "import numpy as np\n",
    "import numpy.random as nprand\n",
    "import math as math\n",
    "import pandas as pd "
   ]
  },
  {
   "cell_type": "code",
   "execution_count": 2,
   "id": "5c244962",
   "metadata": {
    "scrolled": true
   },
   "outputs": [
    {
     "name": "stderr",
     "output_type": "stream",
     "text": [
      "[nltk_data] Downloading package stopwords to\n",
      "[nltk_data]     C:\\Users\\sahri\\AppData\\Roaming\\nltk_data...\n",
      "[nltk_data]   Package stopwords is already up-to-date!\n"
     ]
    },
    {
     "data": {
      "text/plain": [
       "True"
      ]
     },
     "execution_count": 2,
     "metadata": {},
     "output_type": "execute_result"
    }
   ],
   "source": [
    "# Run in python console\n",
    "import nltk; nltk.download('stopwords')\n",
    "\n",
    "# Run in terminal or command prompt\n",
    "#!python3 -m spacy download en\n",
    "#!pip install -U gensim"
   ]
  },
  {
   "cell_type": "code",
   "execution_count": 3,
   "id": "0648524f",
   "metadata": {},
   "outputs": [],
   "source": [
    "#!pip install gensim\n",
    "#!pip install spacy"
   ]
  },
  {
   "cell_type": "code",
   "execution_count": 4,
   "id": "ca719164",
   "metadata": {},
   "outputs": [],
   "source": [
    "#!pip install pyLDAvis"
   ]
  },
  {
   "cell_type": "code",
   "execution_count": 5,
   "id": "56c33bd4",
   "metadata": {},
   "outputs": [],
   "source": [
    "import re\n",
    "from pprint import pprint\n",
    "\n",
    "# Gensim\n",
    "import gensim\n",
    "import gensim.corpora as corpora\n",
    "from gensim.utils import simple_preprocess\n",
    "from gensim.models import CoherenceModel\n",
    "\n",
    "# spacy for lemmatization\n",
    "import spacy\n",
    "\n",
    "# Plotting tools\n",
    "import pyLDAvis\n",
    "#import pyLDAvis.gensim  # don't skip this\n",
    "import pyLDAvis.gensim_models as gensimvis\n",
    "import matplotlib.pyplot as plt\n",
    "%matplotlib inline\n",
    "\n",
    "# Enable logging for gensim - optional\n",
    "import logging\n",
    "logging.basicConfig(format='%(asctime)s : %(levelname)s : %(message)s', level=logging.ERROR)\n",
    "\n",
    "import warnings\n",
    "warnings.filterwarnings(\"ignore\",category=DeprecationWarning)"
   ]
  },
  {
   "cell_type": "code",
   "execution_count": 6,
   "id": "0922bc18",
   "metadata": {},
   "outputs": [],
   "source": [
    "#Using Stop Words\n",
    "from nltk.corpus import stopwords\n",
    "stop_words = stopwords.words('english')\n",
    "#stop_words.extend(['from', 'subject', 're', 'edu', 'use'])"
   ]
  },
  {
   "cell_type": "code",
   "execution_count": 7,
   "id": "09ba7b0e",
   "metadata": {},
   "outputs": [
    {
     "data": {
      "text/html": [
       "<div>\n",
       "<style scoped>\n",
       "    .dataframe tbody tr th:only-of-type {\n",
       "        vertical-align: middle;\n",
       "    }\n",
       "\n",
       "    .dataframe tbody tr th {\n",
       "        vertical-align: top;\n",
       "    }\n",
       "\n",
       "    .dataframe thead th {\n",
       "        text-align: right;\n",
       "    }\n",
       "</style>\n",
       "<table border=\"1\" class=\"dataframe\">\n",
       "  <thead>\n",
       "    <tr style=\"text-align: right;\">\n",
       "      <th></th>\n",
       "      <th>postid</th>\n",
       "      <th>tags</th>\n",
       "      <th>title</th>\n",
       "      <th>question</th>\n",
       "      <th>answers</th>\n",
       "      <th>words</th>\n",
       "      <th>creation_date</th>\n",
       "      <th>Related</th>\n",
       "    </tr>\n",
       "  </thead>\n",
       "  <tbody>\n",
       "    <tr>\n",
       "      <th>0</th>\n",
       "      <td>40471439</td>\n",
       "      <td>blockchain diffie-hellman encryption javascript</td>\n",
       "      <td>js diffi hellman ssl blockchain auth</td>\n",
       "      <td>tri figur secur qualiti ssl mimick without nee...</td>\n",
       "      <td>NaN</td>\n",
       "      <td>encrypt|scripting|diffie hellman|ssl|security|...</td>\n",
       "      <td>2016-11-07 17:52:22.793 UTC</td>\n",
       "      <td>Yes</td>\n",
       "    </tr>\n",
       "    <tr>\n",
       "      <th>1</th>\n",
       "      <td>32771909</td>\n",
       "      <td>cryptography jar jarsigner java smartcard</td>\n",
       "      <td>sign jar smartcard</td>\n",
       "      <td>use pkcs11 smartcard work jarsign sign jar fil...</td>\n",
       "      <td>ad -sigalg algortihm avail [sha256withrsa case...</td>\n",
       "      <td>crypt|signing|certificate|validate|private key...</td>\n",
       "      <td>2015-09-24 22:23:45.947 UTC</td>\n",
       "      <td>Yes</td>\n",
       "    </tr>\n",
       "    <tr>\n",
       "      <th>2</th>\n",
       "      <td>15574818</td>\n",
       "      <td>java jespa ntlm servlets spring-security</td>\n",
       "      <td>cannot creat session respons commit ie7 ie8</td>\n",
       "      <td>work applic allow user login use ntlm form log...</td>\n",
       "      <td>NaN</td>\n",
       "      <td>security|login|credential|password|validate|au...</td>\n",
       "      <td>2013-03-22 16:04:18.12 UTC</td>\n",
       "      <td>Yes</td>\n",
       "    </tr>\n",
       "    <tr>\n",
       "      <th>3</th>\n",
       "      <td>19042957</td>\n",
       "      <td>asp.net c# security</td>\n",
       "      <td>strong name assembl</td>\n",
       "      <td>thought learn strong name creat one exampl cac...</td>\n",
       "      <td>refer strong-nam assembl normal assembl includ...</td>\n",
       "      <td>security|signing|public key|signature|private key</td>\n",
       "      <td>2013-09-27 04:51:44.143 UTC</td>\n",
       "      <td>Yes</td>\n",
       "    </tr>\n",
       "    <tr>\n",
       "      <th>4</th>\n",
       "      <td>59694966</td>\n",
       "      <td>ssh digital-ocean cyberduck</td>\n",
       "      <td>eof read packet</td>\n",
       "      <td>connect via sftp digitalocean vps username/pas...</td>\n",
       "      <td>need updat password termin window *open digit ...</td>\n",
       "      <td>sftp|username|password|authentication|login</td>\n",
       "      <td>11/1/2020 13:43</td>\n",
       "      <td>Yes</td>\n",
       "    </tr>\n",
       "  </tbody>\n",
       "</table>\n",
       "</div>"
      ],
      "text/plain": [
       "     postid                                             tags  \\\n",
       "0  40471439  blockchain diffie-hellman encryption javascript   \n",
       "1  32771909        cryptography jar jarsigner java smartcard   \n",
       "2  15574818         java jespa ntlm servlets spring-security   \n",
       "3  19042957                              asp.net c# security   \n",
       "4  59694966                      ssh digital-ocean cyberduck   \n",
       "\n",
       "                                         title  \\\n",
       "0         js diffi hellman ssl blockchain auth   \n",
       "1                           sign jar smartcard   \n",
       "2  cannot creat session respons commit ie7 ie8   \n",
       "3                          strong name assembl   \n",
       "4                              eof read packet   \n",
       "\n",
       "                                            question  \\\n",
       "0  tri figur secur qualiti ssl mimick without nee...   \n",
       "1  use pkcs11 smartcard work jarsign sign jar fil...   \n",
       "2  work applic allow user login use ntlm form log...   \n",
       "3  thought learn strong name creat one exampl cac...   \n",
       "4  connect via sftp digitalocean vps username/pas...   \n",
       "\n",
       "                                             answers  \\\n",
       "0                                                NaN   \n",
       "1  ad -sigalg algortihm avail [sha256withrsa case...   \n",
       "2                                                NaN   \n",
       "3  refer strong-nam assembl normal assembl includ...   \n",
       "4  need updat password termin window *open digit ...   \n",
       "\n",
       "                                               words  \\\n",
       "0  encrypt|scripting|diffie hellman|ssl|security|...   \n",
       "1  crypt|signing|certificate|validate|private key...   \n",
       "2  security|login|credential|password|validate|au...   \n",
       "3  security|signing|public key|signature|private key   \n",
       "4        sftp|username|password|authentication|login   \n",
       "\n",
       "                 creation_date Related  \n",
       "0  2016-11-07 17:52:22.793 UTC     Yes  \n",
       "1  2015-09-24 22:23:45.947 UTC     Yes  \n",
       "2   2013-03-22 16:04:18.12 UTC     Yes  \n",
       "3  2013-09-27 04:51:44.143 UTC     Yes  \n",
       "4              11/1/2020 13:43     Yes  "
      ]
     },
     "execution_count": 7,
     "metadata": {},
     "output_type": "execute_result"
    }
   ],
   "source": [
    "#read iris.csv\n",
    "import pandas as pd\n",
    "df = pd.read_csv('security.csv',encoding='utf-8')\n",
    "df.head()"
   ]
  },
  {
   "cell_type": "code",
   "execution_count": 8,
   "id": "8d847680",
   "metadata": {},
   "outputs": [
    {
     "name": "stdout",
     "output_type": "stream",
     "text": [
      "['encrypt|scripting|diffie '\n",
      " 'hellman|ssl|security|authentication|certificate|authorise|public key',\n",
      " 'crypt|signing|certificate|validate|private key|dsa|rsa|availability',\n",
      " 'security|login|credential|password|validate|authentication',\n",
      " 'security|signing|public key|signature|private key']\n"
     ]
    }
   ],
   "source": [
    "# Convert to list\n",
    "data = df.words.values.tolist()\n",
    "\n",
    "# Remove Emails\n",
    "#data = [re.sub('\\S*@\\S*\\s?', '', sent) for sent in data]\n",
    "\n",
    "# Remove new line characters\n",
    "#data = [re.sub('\\s+', ' ', sent) for sent in data]\n",
    "\n",
    "# Remove distracting single quotes\n",
    "#data = [re.sub(\"\\'\", \"\", sent) for sent in data]\n",
    "\n",
    "pprint(data[:4])"
   ]
  },
  {
   "cell_type": "code",
   "execution_count": 9,
   "id": "8a1103bc",
   "metadata": {},
   "outputs": [
    {
     "name": "stdout",
     "output_type": "stream",
     "text": [
      "385\n"
     ]
    }
   ],
   "source": [
    "def sent_to_words(sentences):\n",
    "    for sentence in sentences:\n",
    "        yield(gensim.utils.simple_preprocess(str(sentence), deacc=True))  # deacc=True removes punctuations\n",
    "\n",
    "data_words = list(sent_to_words(data))\n",
    "print(len(data_words))\n",
    "\n",
    "\n",
    "#print(data_words[:10])"
   ]
  },
  {
   "cell_type": "code",
   "execution_count": 10,
   "id": "291f7042",
   "metadata": {},
   "outputs": [
    {
     "name": "stdout",
     "output_type": "stream",
     "text": [
      "['security', 'openid', 'oauth', 'login', 'authorise', 'authentication', 'validate', 'hack']\n"
     ]
    }
   ],
   "source": [
    "# Build the bigram and trigram models\n",
    "bigram = gensim.models.Phrases(data_words, min_count=5, threshold=100) # higher threshold fewer phrases.\n",
    "trigram = gensim.models.Phrases(bigram[data_words], threshold=100)  \n",
    "\n",
    "# Faster way to get a sentence clubbed as a trigram/bigram\n",
    "bigram_mod = gensim.models.phrases.Phraser(bigram)\n",
    "trigram_mod = gensim.models.phrases.Phraser(trigram)\n",
    "\n",
    "# See trigram example\n",
    "print(trigram_mod[bigram_mod[data_words[100]]])"
   ]
  },
  {
   "cell_type": "code",
   "execution_count": 11,
   "id": "6e42620d",
   "metadata": {},
   "outputs": [],
   "source": [
    "# Define functions for stopwords, bigrams, trigrams and lemmatization\n",
    "def remove_stopwords(texts):\n",
    "    return [[word for word in simple_preprocess(str(doc)) if word not in stop_words] for doc in texts]\n",
    "\n",
    "def make_bigrams(texts):\n",
    "    return [bigram_mod[doc] for doc in texts]\n",
    "\n",
    "def make_trigrams(texts):\n",
    "    return [trigram_mod[bigram_mod[doc]] for doc in texts]\n",
    "\n",
    "def lemmatization(texts, allowed_postags=['NOUN', 'ADJ', 'VERB', 'ADV']):\n",
    "    \"\"\"https://spacy.io/api/annotation\"\"\"\n",
    "    texts_out = []\n",
    "    for sent in texts:\n",
    "        doc = nlp(\" \".join(sent)) \n",
    "        texts_out.append([token.lemma_ for token in doc if token.pos_ in allowed_postags])\n",
    "    return texts_out"
   ]
  },
  {
   "cell_type": "code",
   "execution_count": 12,
   "id": "3a021a40",
   "metadata": {},
   "outputs": [],
   "source": [
    "#!python -m spacy download en_core_web_sm"
   ]
  },
  {
   "cell_type": "code",
   "execution_count": 13,
   "id": "754a7fa1",
   "metadata": {},
   "outputs": [
    {
     "name": "stdout",
     "output_type": "stream",
     "text": [
      "[['encrypt', 'security', 'authentication', 'certificate', 'authorise', 'public', 'key'], ['sign', 'certificate', 'validate', 'private', 'dsa', 'rsa', 'availability'], ['password', 'validate', 'authentication'], ['security', 'sign', 'public', 'key', 'signature', 'private', 'key'], ['password', 'authentication', 'login'], ['validate'], ['delegation', 'transport', 'security', 'privilege', 'authentication'], ['security', 'encrypt'], ['security', 'transport', 'certificate', 'trust', 'validate', 'insecure', 'bypass'], ['certificate', 'signature', 'hash', 'encode', 'validate']]\n"
     ]
    }
   ],
   "source": [
    "# Remove Stop Words\n",
    "data_words_nostops = remove_stopwords(data_words)\n",
    "\n",
    "# Form Bigrams\n",
    "data_words_bigrams = make_bigrams(data_words_nostops)\n",
    "\n",
    "# Initialize spacy 'en' model, keeping only tagger component (for efficiency)\n",
    "# python3 -m spacy download en\n",
    "#nlp = spacy.load('en', disable=['parser', 'ner'])\n",
    "nlp = spacy.load(\"en_core_web_sm\",disable=['parser', 'ner'])\n",
    "\n",
    "# Do lemmatization keeping only noun, adj, vb, adv\n",
    "data_lemmatized = lemmatization(data_words_bigrams, allowed_postags=['NOUN', 'ADJ', 'VERB', 'ADV'])\n",
    "\n",
    "print(data_lemmatized[:10])"
   ]
  },
  {
   "cell_type": "code",
   "execution_count": 14,
   "id": "ace47122",
   "metadata": {},
   "outputs": [
    {
     "name": "stdout",
     "output_type": "stream",
     "text": [
      "[[(0, 1), (1, 1), (2, 1), (3, 1), (4, 1), (5, 1), (6, 1)]]\n"
     ]
    }
   ],
   "source": [
    "# Create Dictionary\n",
    "id2word = corpora.Dictionary(data_lemmatized)\n",
    "\n",
    "# Create Corpus\n",
    "texts = data_lemmatized\n",
    "\n",
    "# Term Document Frequency\n",
    "corpus = [id2word.doc2bow(text) for text in texts]\n",
    "\n",
    "# View\n",
    "print(corpus[:1])"
   ]
  },
  {
   "cell_type": "code",
   "execution_count": 15,
   "id": "4e1caff3",
   "metadata": {},
   "outputs": [
    {
     "data": {
      "text/plain": [
       "[[('authentication', 1),\n",
       "  ('authorise', 1),\n",
       "  ('certificate', 1),\n",
       "  ('encrypt', 1),\n",
       "  ('key', 1),\n",
       "  ('public', 1),\n",
       "  ('security', 1)]]"
      ]
     },
     "execution_count": 15,
     "metadata": {},
     "output_type": "execute_result"
    }
   ],
   "source": [
    "[[(id2word[id], freq) for id, freq in cp] for cp in corpus[:1]]"
   ]
  },
  {
   "cell_type": "code",
   "execution_count": 16,
   "id": "19d72fa7",
   "metadata": {},
   "outputs": [],
   "source": [
    "# Build LDA model\n",
    "lda_model = gensim.models.ldamodel.LdaModel(corpus=corpus,\n",
    "                                           id2word=id2word,\n",
    "                                           num_topics=10, \n",
    "                                           random_state=100,\n",
    "                                           update_every=1,\n",
    "                                           chunksize=100,\n",
    "                                           passes=10,\n",
    "                                           alpha='auto',\n",
    "                                           per_word_topics=True)"
   ]
  },
  {
   "cell_type": "code",
   "execution_count": 17,
   "id": "8fb34225",
   "metadata": {},
   "outputs": [
    {
     "name": "stdout",
     "output_type": "stream",
     "text": [
      "[(0,\n",
      "  '0.278*\"script\" + 0.157*\"forge\" + 0.132*\"inject\" + 0.081*\"xss\" + '\n",
      "  '0.051*\"checksum\" + 0.039*\"md\" + 0.039*\"account\" + 0.036*\"integrity\" + '\n",
      "  '0.033*\"hash\" + 0.015*\"crc\"'),\n",
      " (1,\n",
      "  '0.191*\"encrypt\" + 0.151*\"key\" + 0.077*\"hash\" + 0.074*\"public\" + '\n",
      "  '0.072*\"private\" + 0.063*\"signature\" + 0.045*\"salt\" + 0.043*\"signing\" + '\n",
      "  '0.037*\"encode\" + 0.031*\"scripting\"'),\n",
      " (2,\n",
      "  '0.226*\"security\" + 0.119*\"oauth\" + 0.103*\"scripting\" + 0.095*\"validate\" + '\n",
      "  '0.085*\"signing\" + 0.054*\"safe\" + 0.043*\"danger\" + 0.042*\"protect\" + '\n",
      "  '0.033*\"unsafe\" + 0.027*\"sanitise\"'),\n",
      " (3,\n",
      "  '0.321*\"authorise\" + 0.207*\"authentication\" + 0.191*\"security\" + '\n",
      "  '0.093*\"crypt\" + 0.063*\"encode\" + 0.015*\"control\" + 0.014*\"decode\" + '\n",
      "  '0.009*\"day\" + 0.001*\"password\" + 0.001*\"username\"'),\n",
      " (4,\n",
      "  '0.183*\"trust\" + 0.119*\"integrity\" + 0.097*\"sign\" + 0.093*\"hack\" + '\n",
      "  '0.075*\"tls\" + 0.049*\"hmac\" + 0.046*\"csrf\" + 0.042*\"safe\" + '\n",
      "  '0.039*\"authentication\" + 0.026*\"audit\"'),\n",
      " (5,\n",
      "  '0.282*\"attack\" + 0.114*\"security\" + 0.112*\"cookie\" + 0.078*\"vulnerability\" '\n",
      "  '+ 0.056*\"openid\" + 0.037*\"snif\" + 0.037*\"availability\" + '\n",
      "  '0.027*\"eavesdropping\" + 0.026*\"authorise\" + 0.026*\"table\"'),\n",
      " (6,\n",
      "  '0.161*\"protect\" + 0.140*\"security\" + 0.067*\"authentication\" + '\n",
      "  '0.054*\"delegation\" + 0.054*\"privilege\" + 0.050*\"trust\" + 0.049*\"tamper\" + '\n",
      "  '0.041*\"hijacking\" + 0.036*\"nonce\" + 0.036*\"transport\"'),\n",
      " (7,\n",
      "  '0.206*\"password\" + 0.168*\"login\" + 0.152*\"authentication\" + '\n",
      "  '0.109*\"username\" + 0.090*\"scripting\" + 0.075*\"security\" + '\n",
      "  '0.072*\"credential\" + 0.034*\"encrypt\" + 0.029*\"malicious\" + 0.014*\"ssh\"'),\n",
      " (8,\n",
      "  '0.177*\"safe\" + 0.134*\"injection\" + 0.099*\"user\" + 0.076*\"sql\" + '\n",
      "  '0.064*\"pbkdf\" + 0.062*\"name\" + 0.052*\"security\" + 0.050*\"protect\" + '\n",
      "  '0.036*\"insecure\" + 0.033*\"steal\"'),\n",
      " (9,\n",
      "  '0.301*\"sign\" + 0.267*\"validate\" + 0.139*\"certificate\" + '\n",
      "  '0.091*\"availability\" + 0.046*\"openssl\" + 0.037*\"rsa\" + 0.017*\"dsa\" + '\n",
      "  '0.008*\"exploit\" + 0.006*\"penetration\" + 0.006*\"test\"')]\n"
     ]
    }
   ],
   "source": [
    "# Print the Keyword in the 10 topics\n",
    "pprint(lda_model.print_topics())\n",
    "doc_lda = lda_model[corpus]"
   ]
  },
  {
   "cell_type": "code",
   "execution_count": 18,
   "id": "bffce407",
   "metadata": {},
   "outputs": [
    {
     "name": "stdout",
     "output_type": "stream",
     "text": [
      "\n",
      "Perplexity:  -4.420951309771526\n",
      "\n",
      "Coherence Score:  0.4389590941384503\n"
     ]
    }
   ],
   "source": [
    "# Compute Perplexity\n",
    "print('\\nPerplexity: ', lda_model.log_perplexity(corpus))  # a measure of how good the model is. lower the better.\n",
    "\n",
    "# Compute Coherence Score\n",
    "coherence_model_lda = CoherenceModel(model=lda_model, texts=data_lemmatized, dictionary=id2word, coherence='c_v')\n",
    "coherence_lda = coherence_model_lda.get_coherence()\n",
    "print('\\nCoherence Score: ', coherence_lda)"
   ]
  },
  {
   "cell_type": "code",
   "execution_count": 19,
   "id": "d59cc746",
   "metadata": {},
   "outputs": [
    {
     "data": {
      "text/plain": [
       "([(1, 0.53513676),\n",
       "  (2, 0.017106641),\n",
       "  (3, 0.34779343),\n",
       "  (7, 0.041633077),\n",
       "  (9, 0.015095048)],\n",
       " [(0, [3, 7]), (1, [3]), (2, [1]), (3, [1]), (4, [1]), (5, [1]), (6, [3, 1])],\n",
       " [(0, [(3, 0.9852767), (7, 0.014720595)]),\n",
       "  (1, [(3, 0.9999983)]),\n",
       "  (2, [(1, 0.9994411)]),\n",
       "  (3, [(1, 0.9979032)]),\n",
       "  (4, [(1, 0.9999975)]),\n",
       "  (5, [(1, 0.9999949)]),\n",
       "  (6, [(1, 0.20224243), (3, 0.79125863)])])"
      ]
     },
     "execution_count": 19,
     "metadata": {},
     "output_type": "execute_result"
    }
   ],
   "source": [
    "lda_model[corpus[0]]"
   ]
  },
  {
   "cell_type": "code",
   "execution_count": 20,
   "id": "5e81ea9a",
   "metadata": {},
   "outputs": [
    {
     "name": "stderr",
     "output_type": "stream",
     "text": [
      "C:\\Users\\sahri\\anaconda3\\lib\\site-packages\\pyLDAvis\\_prepare.py:246: FutureWarning: In a future version of pandas all arguments of DataFrame.drop except for the argument 'labels' will be keyword-only\n",
      "  default_term_info = default_term_info.sort_values(\n"
     ]
    },
    {
     "data": {
      "text/html": [
       "\n",
       "<link rel=\"stylesheet\" type=\"text/css\" href=\"https://cdn.jsdelivr.net/gh/bmabey/pyLDAvis@3.3.1/pyLDAvis/js/ldavis.v1.0.0.css\">\n",
       "\n",
       "\n",
       "<div id=\"ldavis_el1133623628925883041618341876\"></div>\n",
       "<script type=\"text/javascript\">\n",
       "\n",
       "var ldavis_el1133623628925883041618341876_data = {\"mdsDat\": {\"x\": [-0.2543989015578201, 0.001863255163662687, -0.07357944613150717, 0.28047684783813753, -0.2084198222071369, -0.09422047736849688, 0.017568745279643864, -0.03875758804525335, 0.17398416960879143, 0.19548321741997915], \"y\": [0.09386721094199153, 0.3230940153291056, 0.02089662977471739, 0.12876126319614056, -0.04183774039927683, -0.14055268268105323, -0.17590136287126976, -0.034926074217841344, -0.11031719178047977, -0.06308406729203399], \"topics\": [1, 2, 3, 4, 5, 6, 7, 8, 9, 10], \"cluster\": [1, 1, 1, 1, 1, 1, 1, 1, 1, 1], \"Freq\": [25.637398626494708, 19.389311896162578, 10.29416664788377, 8.329800413297225, 7.189834907460287, 6.582489413079948, 6.499785288584374, 6.379806925426852, 5.293025268272505, 4.4043806133377545]}, \"tinfo\": {\"Term\": [\"password\", \"authentication\", \"sign\", \"authorise\", \"validate\", \"security\", \"attack\", \"encrypt\", \"key\", \"login\", \"script\", \"safe\", \"username\", \"protect\", \"trust\", \"scripting\", \"certificate\", \"oauth\", \"forge\", \"injection\", \"signing\", \"hash\", \"availability\", \"public\", \"integrity\", \"cookie\", \"credential\", \"inject\", \"private\", \"user\", \"password\", \"username\", \"credential\", \"malicious\", \"login\", \"ssh\", \"tunnel\", \"mitm\", \"authentication\", \"burp\", \"scripting\", \"spnego\", \"ldap\", \"security\", \"encrypt\", \"shibboleth\", \"sso\", \"hsm\", \"rbac\", \"cipher\", \"asset\", \"threadsafe\", \"cryptanalysis\", \"intruder\", \"cross\", \"penetration\", \"test\", \"vector\", \"spoof\", \"confidential\", \"sign\", \"authorise\", \"validate\", \"certificate\", \"day\", \"virus\", \"owasp\", \"protect\", \"eavesdropping\", \"theft\", \"privilege\", \"pbkdf\", \"control\", \"key\", \"public\", \"signature\", \"salt\", \"private\", \"aes\", \"hash\", \"cbc\", \"crack\", \"fingerprint\", \"encrypt\", \"virus\", \"decode\", \"honeypot\", \"openssh\", \"fraud\", \"gnupg\", \"threat\", \"encode\", \"signing\", \"availability\", \"insecure\", \"certificate\", \"scripting\", \"security\", \"shibboleth\", \"sso\", \"hsm\", \"cipher\", \"rbac\", \"sign\", \"burp\", \"disclosure\", \"leak\", \"rsa\", \"oauth\", \"danger\", \"unsafe\", \"sanitise\", \"spam\", \"sandbox\", \"site\", \"signing\", \"cross\", \"hsm\", \"sso\", \"day\", \"transport\", \"validate\", \"safe\", \"security\", \"scripting\", \"vulnerability\", \"protect\", \"shibboleth\", \"rbac\", \"cipher\", \"asset\", \"spnego\", \"threadsafe\", \"cryptanalysis\", \"intruder\", \"login\", \"penetration\", \"test\", \"sign\", \"spoof\", \"password\", \"hash\", \"exploit\", \"forge\", \"mitm\", \"salt\", \"malicious\", \"confidential\", \"burp\", \"openssl\", \"rsa\", \"sign\", \"dsa\", \"certificate\", \"validate\", \"availability\", \"penetration\", \"test\", \"exploit\", \"shibboleth\", \"hsm\", \"sso\", \"rbac\", \"cipher\", \"asset\", \"spnego\", \"threadsafe\", \"cryptanalysis\", \"intruder\", \"cross\", \"vector\", \"spoof\", \"confidential\", \"crc\", \"illegitimate\", \"burp\", \"theft\", \"adversarial\", \"owasp\", \"private\", \"authorise\", \"key\", \"signature\", \"scripting\", \"checksum\", \"security\", \"insecure\", \"bypass\", \"malicious\", \"cbc\", \"inject\", \"login\", \"sandbox\", \"encode\", \"authentication\", \"tamper\", \"crypt\", \"authorise\", \"control\", \"encode\", \"day\", \"authentication\", \"decode\", \"security\", \"shibboleth\", \"sso\", \"hsm\", \"rbac\", \"cipher\", \"asset\", \"spnego\", \"threadsafe\", \"cryptanalysis\", \"intruder\", \"cross\", \"penetration\", \"test\", \"spoof\", \"vector\", \"confidential\", \"crc\", \"illegitimate\", \"burp\", \"theft\", \"adversarial\", \"owasp\", \"password\", \"username\", \"encrypt\", \"access\", \"forge\", \"login\", \"certificate\", \"scripting\", \"oauth\", \"thread\", \"bypass\", \"cookie\", \"validate\", \"integrity\", \"hmac\", \"crack\", \"availability\", \"trust\", \"tamper\", \"delegation\", \"privilege\", \"tamper\", \"hijacking\", \"nonce\", \"bypass\", \"saml\", \"access\", \"ldap\", \"transport\", \"protect\", \"illegitimate\", \"cipher\", \"rbac\", \"trust\", \"forge\", \"security\", \"certificate\", \"authentication\", \"shibboleth\", \"sso\", \"hsm\", \"asset\", \"spnego\", \"threadsafe\", \"cryptanalysis\", \"intruder\", \"cross\", \"penetration\", \"test\", \"authorise\", \"login\", \"credential\", \"validate\", \"sign\", \"scripting\", \"fraud\", \"gnupg\", \"threat\", \"honeypot\", \"cookie\", \"injection\", \"user\", \"sql\", \"pbkdf\", \"name\", \"steal\", \"thread\", \"information\", \"sensitive\", \"leak\", \"disclosure\", \"insecure\", \"safe\", \"threadsafe\", \"protect\", \"shibboleth\", \"sso\", \"hsm\", \"rbac\", \"cipher\", \"asset\", \"spnego\", \"cryptanalysis\", \"intruder\", \"cross\", \"penetration\", \"test\", \"vector\", \"spoof\", \"confidential\", \"security\", \"hash\", \"owasp\", \"malicious\", \"fraud\", \"gnupg\", \"threat\", \"encrypt\", \"hack\", \"account\", \"certificate\", \"nonce\", \"authentication\", \"unsafe\", \"attack\", \"attack\", \"cookie\", \"openid\", \"snif\", \"eavesdropping\", \"table\", \"violate\", \"obfuscate\", \"rainbow\", \"vulnerability\", \"adversarial\", \"theft\", \"spoof\", \"vector\", \"asset\", \"availability\", \"security\", \"shibboleth\", \"sso\", \"hsm\", \"rbac\", \"cipher\", \"spnego\", \"authorise\", \"threadsafe\", \"cryptanalysis\", \"intruder\", \"cross\", \"penetration\", \"test\", \"mitm\", \"encrypt\", \"authentication\", \"encode\", \"oauth\", \"hijacking\", \"salt\", \"malicious\", \"password\", \"nonce\", \"exploit\", \"confidential\", \"hack\", \"tls\", \"hmac\", \"csrf\", \"integrity\", \"audit\", \"trust\", \"single\", \"owasp\", \"confidential\", \"cryptanalysis\", \"intruder\", \"shibboleth\", \"exploit\", \"sign\", \"safe\", \"forge\", \"sso\", \"hsm\", \"rbac\", \"cipher\", \"asset\", \"spnego\", \"threadsafe\", \"cross\", \"penetration\", \"test\", \"vector\", \"spoof\", \"crc\", \"authentication\", \"validate\", \"security\", \"encrypt\", \"attack\", \"virus\", \"password\", \"thread\", \"malicious\", \"tunnel\", \"spam\", \"ldap\", \"script\", \"inject\", \"xss\", \"checksum\", \"md\", \"account\", \"forge\", \"crc\", \"integrity\", \"hash\", \"shibboleth\", \"sso\", \"hsm\", \"rbac\", \"cipher\", \"asset\", \"spnego\", \"threadsafe\", \"cryptanalysis\", \"intruder\", \"cross\", \"penetration\", \"test\", \"vector\", \"spoof\", \"confidential\", \"illegitimate\", \"burp\", \"theft\", \"adversarial\", \"availability\", \"authorise\", \"day\", \"sanitise\", \"malicious\", \"exploit\", \"violate\", \"dsa\", \"scripting\", \"salt\", \"credential\", \"audit\", \"spam\", \"login\", \"tamper\", \"protect\", \"safe\", \"pbkdf\"], \"Freq\": [88.0, 101.0, 52.0, 44.0, 55.0, 138.0, 30.0, 76.0, 49.0, 78.0, 21.0, 32.0, 47.0, 30.0, 22.0, 66.0, 27.0, 21.0, 17.0, 15.0, 29.0, 28.0, 24.0, 24.0, 13.0, 12.0, 31.0, 10.0, 24.0, 11.0, 88.12398124045009, 46.51540820811721, 30.683750609091213, 12.575557162160178, 71.86643208189932, 6.071623069159279, 4.163836876632648, 3.2776767266173175, 64.83456884914251, 1.1342273170827484, 38.35288231465448, 0.6880411330703704, 1.5363401473309133, 31.87485759015111, 14.34229096095985, 0.10417986089679175, 0.10423533955981934, 0.10418101074584621, 0.10419277649860346, 0.10417986089679175, 0.10417988575839293, 0.1041799230507947, 0.10417994791239588, 0.10417994791239588, 0.1041799044045938, 0.10418661082151144, 0.10418661082151144, 0.10420449874355865, 0.10417994169699557, 0.10418015923600588, 0.13414848868037313, 0.10630159344908176, 0.10493549818758043, 0.10487745877963155, 0.10427448415087331, 0.10422492254892597, 0.10421877551803484, 0.10421311328836666, 0.1042122928555278, 0.10421188263910837, 0.10420716515028494, 0.10420373424932244, 0.10420272735447475, 48.65760226947219, 24.001358196921323, 20.29391945036655, 14.480075059701843, 23.10455015370853, 6.706379885125499, 24.96134051541434, 5.598843311493048, 4.08377562278455, 3.977024779825251, 61.769216245374814, 2.196249805280409, 5.210160508232959, 1.7849592263626968, 1.678255465073563, 1.677995086891275, 1.677995086891275, 1.677995086891275, 12.093707665245837, 13.929429506025015, 7.276457382823528, 1.8725970171242787, 5.127677633882129, 10.03057203148656, 9.88038180450055, 0.09244596872204668, 0.09244617555046993, 0.09244625076080565, 0.09245456150290352, 0.09244595932075471, 0.49414093096890577, 0.09269538499790246, 0.09250134233172592, 0.09249941506687291, 0.09247387175660152, 20.34296544390687, 7.420145005189991, 5.590271768574622, 4.642684660484399, 3.5875585754656654, 2.5347724262424225, 1.4964105037645155, 14.50104052845946, 0.793739523988315, 0.6016522379348892, 0.6015252185532262, 1.0577537610419083, 2.070821137293142, 16.32487177932249, 9.2373381856325, 38.794884541988154, 17.711078494635494, 2.8616098664791507, 7.154710994123694, 0.0911491841496402, 0.09115966594394594, 0.0911491841496402, 0.0911491841496402, 0.09114921409762393, 0.0911491841496402, 0.0911491841496402, 0.0911491841496402, 4.240601273967889, 0.09114919413230144, 0.09114919413230144, 0.8172127536364232, 0.09115918677620624, 0.09199674203720222, 0.09153367633009717, 0.09132496883147806, 0.09126290662652684, 0.0912625073200771, 0.09124366005564925, 0.09121587830940843, 0.09119251888209849, 0.09118980359824025, 6.3188017425365, 5.080513796019136, 41.76293982155837, 2.3157363786309797, 19.31603385482736, 37.06739884489775, 12.656863913075457, 0.848570264163355, 0.848570264163355, 1.1304159015583657, 0.09746007560223745, 0.09768727812432496, 0.09746009175771242, 0.0974711259471095, 0.09746007560223745, 0.09746007560223745, 0.09746008367997494, 0.09746007560223745, 0.09746536652028656, 0.09746536652028656, 0.09746007560223745, 0.09746699822325744, 0.09746007560223745, 0.09746008367997494, 0.09746007560223745, 0.09746007560223745, 0.0974652291987494, 0.0974723456854689, 0.09746916305690195, 0.09746007560223745, 0.705248066635872, 0.09912431569967563, 0.09778586691026295, 0.09749241078536812, 0.09749181303279464, 0.09748259633433046, 0.09748208743686924, 0.09748092424267218, 0.09747919560685156, 0.09747759621483061, 0.09747757198161817, 0.09747686114071998, 0.09747632801004633, 0.09747473669576286, 0.09747392084427742, 0.0974736462012031, 0.09747154598945842, 11.144472794290998, 38.485086750400434, 1.762207433627857, 7.600217195660351, 1.0579444676931917, 24.837310571958504, 1.6711758323542496, 22.88344062908197, 0.0912615048308639, 0.0912615048308639, 0.0912615048308639, 0.0912615048308639, 0.0912615048308639, 0.0912615048308639, 0.0912615048308639, 0.0912615048308639, 0.0912615048308639, 0.0912615048308639, 0.0912615048308639, 0.09128507806817465, 0.09128507806817465, 0.09129221767036519, 0.0912615048308639, 0.0912615048308639, 0.0912615048308639, 0.0912615048308639, 0.09126246003154759, 0.0912615048308639, 0.0912615048308639, 0.0912615048308639, 0.11571103767101827, 0.09447642446920247, 0.09132191953104066, 0.09130156748143697, 0.09128336986257242, 0.09128288180382893, 0.09128250530136965, 0.09127990464549361, 0.09127678804180302, 0.0912759722864746, 0.09127475911188364, 0.09127475213961588, 0.09127452902704741, 0.091273831800271, 0.09127350410368608, 0.09127280687690965, 0.09127270926516096, 0.0912725070693958, 0.09127199809384902, 5.880339979019662, 5.88033058280092, 5.42308810959443, 4.468296653028088, 3.9939105744611183, 3.0971930606268407, 2.8975987863740116, 2.3653295491685657, 3.6783630798846203, 3.9709147589493443, 17.669903096409524, 1.101333760606291, 0.6270672795626571, 0.6270080425314573, 5.428780992558359, 3.9233494655521297, 15.351855932747787, 2.2336305131551075, 7.389250966679194, 0.09493389176432256, 0.09493389176432256, 0.09493389176432256, 0.09493389176432256, 0.09493389176432256, 0.09493389176432256, 0.09493389176432256, 0.09493389176432256, 0.09493389176432256, 0.09497554918518572, 0.09497554918518572, 2.4888348781733383, 1.609838530753739, 0.15106531947068844, 0.1017103272683489, 0.09556134469738489, 0.09509469987746762, 0.09501861093221955, 0.09501861093221955, 0.09501861093221955, 0.09498534755187664, 0.09498043879358001, 14.508045985323188, 10.73563076183274, 8.243732620776965, 6.960789500630401, 6.701203868856372, 3.5333436083048477, 3.2735905662131537, 2.6852520154789494, 2.6852520154789494, 2.321759842009946, 2.321738865295443, 3.9051663612198557, 19.165126711870624, 0.7817459258643187, 5.374011579661739, 0.08977196755504482, 0.08977196755504482, 0.08977196755504482, 0.08977196755504482, 0.08977196755504482, 0.08977196755504482, 0.08977196755504482, 0.08977196755504482, 0.08977196755504482, 0.08977196755504482, 0.08977196755504482, 0.08977196755504482, 0.08978038849572254, 0.08977196755504482, 0.08977196755504482, 5.628426047912534, 0.12418445678946277, 0.08986318600825424, 0.08986312928036046, 0.08985781576764242, 0.08985781576764242, 0.08985781576764242, 0.08982515941011907, 0.08981632876798622, 0.08981562912396285, 0.08981025888335102, 0.08980446003198612, 0.08980120763274234, 0.08979958143312046, 0.08979658746094836, 30.02146187936588, 11.868963489285667, 5.986632991475017, 3.9766332417750068, 2.8824798025693177, 2.7296347694975727, 2.538593029397507, 2.2391504934385997, 2.179332822077222, 8.281919395688035, 1.1386764708861734, 1.1385868867239108, 0.8546912119325768, 0.8546779475372804, 0.6483483484360067, 3.9571096357071665, 12.101506156675189, 0.09815404430565668, 0.09815404430565668, 0.09815404430565668, 0.09816276143857298, 0.09815404430565668, 0.09815404430565668, 2.7776015945538792, 0.09816982670882879, 0.09817856240199971, 0.09817856240199971, 0.09815404430565668, 0.09815404430565668, 0.09815404430565668, 0.0984830371921652, 0.09830665909258321, 0.09823378534622325, 0.0982242020680917, 0.09822276055498345, 0.09821090055228611, 0.09820235664841286, 0.09820064291823698, 0.09819584818579542, 0.09819467888975485, 0.09819333017791967, 0.09819333017791967, 8.199537071413623, 6.632626659336852, 4.302877877179763, 4.041820641140156, 10.473818483674536, 2.3342162560355426, 16.142488486951137, 1.7978115834940596, 1.2915430190295734, 1.0468123723321587, 0.7858277354121616, 0.7858277354121616, 0.596128946018962, 1.0467686814592712, 8.566977312397988, 3.666298245677201, 1.3704994070219687, 0.09049140464318024, 0.09024945206256774, 0.09024945206256774, 0.09024945206256774, 0.09024945206256774, 0.09024945206256774, 0.09024945206256774, 0.09024945206256774, 0.09024945206256774, 0.09024945206256774, 0.09024945206256774, 0.09024945206256774, 0.09024945206256774, 3.42635946937686, 1.2487123307334143, 1.299074931312024, 0.09853970280156836, 0.09153718305293787, 0.09038144859536572, 0.09033687487119331, 0.09029761878615523, 0.09029759825473001, 0.09029692071769745, 0.09027956139766623, 0.09027875040636968, 20.40490801032429, 9.649557683846272, 5.961143010312977, 3.7098754253865485, 2.8329906354257, 2.832887582267521, 11.486546652580964, 1.0768345685080178, 2.6634012193350487, 2.4521690334210837, 0.09283303376963062, 0.09281748695697423, 0.09281748695697423, 0.09281748695697423, 0.09281748695697423, 0.09281748695697423, 0.09281748695697423, 0.09281748695697423, 0.09281748695697423, 0.09281748695697423, 0.09281748695697423, 0.09281748695697423, 0.09281748695697423, 0.09281748695697423, 0.09281748695697423, 0.09285717404027181, 0.09281748695697423, 0.09281756383681704, 0.09281748695697423, 0.09281748695697423, 0.09527078253635857, 0.09338676510854584, 0.09293268713031719, 0.09289312818009093, 0.09288227958005048, 0.09285716549806707, 0.09285687506310535, 0.09284809367661591, 0.09284619730716002, 0.09284245582147678, 0.09284185786714384, 0.09283936354335501, 0.09283691193058996, 0.09283666420665203, 0.09283623709641423, 0.09283384527908246, 0.09283329003577331, 0.09283311919167818], \"Total\": [88.0, 101.0, 52.0, 44.0, 55.0, 138.0, 30.0, 76.0, 49.0, 78.0, 21.0, 32.0, 47.0, 30.0, 22.0, 66.0, 27.0, 21.0, 17.0, 15.0, 29.0, 28.0, 24.0, 24.0, 13.0, 12.0, 31.0, 10.0, 24.0, 11.0, 88.98769337049787, 47.35691787267731, 31.578200384386324, 13.414160101763711, 78.36911583502086, 6.909891687879258, 5.002159751258396, 4.116407751623284, 101.04946139226541, 1.9727673760959576, 66.74947823770802, 1.5262849632751612, 5.958053982908799, 138.00474224304352, 76.8659049811492, 1.4483184776151965, 1.4530971254772704, 1.453155125041296, 1.4745407430858946, 1.4745654174253373, 1.4926227203189633, 1.6344132585151792, 1.638054818614308, 1.638054818614308, 1.645013820192623, 1.6936056441766947, 1.6936056441766947, 1.6989873214862345, 1.6990014101406292, 1.899109027628459, 52.243030932879314, 44.41398945413784, 55.31213854816516, 27.335727081227176, 2.8759212003130576, 3.0464044157186203, 2.1439105299234917, 30.865297013975614, 3.7268185869316186, 1.9829211743159043, 6.727864941940342, 7.813533549972127, 2.613420642041117, 49.507950220774596, 24.851368515902898, 21.143981182376887, 15.330272086545584, 24.562372742893803, 7.556380633129517, 28.20555837723726, 6.448839575211088, 4.933805506245072, 4.8270072314747905, 76.8659049811492, 3.0464044157186203, 7.6400877489101475, 2.63502129452712, 2.5282343964123886, 2.5281666533337663, 2.5281666533337663, 2.5281666533337663, 20.45278368502809, 29.18937677476259, 24.547317210360852, 6.538016472902981, 27.335727081227176, 66.74947823770802, 138.00474224304352, 1.4483184776151965, 1.4530971254772704, 1.453155125041296, 1.4745654174253373, 1.4745407430858946, 52.243030932879314, 1.9727673760959576, 3.174500859505139, 3.174512579665784, 5.925518260179558, 21.194352185410438, 8.27149365839074, 6.441619830747844, 5.494058649923772, 4.43888696419454, 3.386081151940391, 2.3476922271450658, 29.18937677476259, 1.645013820192623, 1.453155125041296, 1.4530971254772704, 2.8759212003130576, 6.798131328104006, 55.31213854816516, 32.74011585184026, 138.00474224304352, 66.74947823770802, 11.896686249138348, 30.865297013975614, 1.4483184776151965, 1.4745407430858946, 1.4745654174253373, 1.4926227203189633, 1.5262849632751612, 1.6344132585151792, 1.638054818614308, 1.638054818614308, 78.36911583502086, 1.6936056441766947, 1.6936056441766947, 52.243030932879314, 1.6990014101406292, 88.98769337049787, 28.20555837723726, 2.9321546634679265, 17.44499937754194, 4.116407751623284, 15.330272086545584, 13.414160101763711, 1.899109027628459, 1.9727673760959576, 7.163789712945346, 5.925518260179558, 52.243030932879314, 3.1607485624211606, 27.335727081227176, 55.31213854816516, 24.547317210360852, 1.6936056441766947, 1.6936056441766947, 2.9321546634679265, 1.4483184776151965, 1.453155125041296, 1.4530971254772704, 1.4745407430858946, 1.4745654174253373, 1.4926227203189633, 1.5262849632751612, 1.6344132585151792, 1.638054818614308, 1.638054818614308, 1.645013820192623, 1.6989873214862345, 1.6990014101406292, 1.899109027628459, 1.9264405526600827, 1.9488414398721752, 1.9727673760959576, 1.9829211743159043, 1.9829695769626647, 2.1439105299234917, 24.562372742893803, 44.41398945413784, 49.507950220774596, 21.143981182376887, 66.74947823770802, 4.559514772147734, 138.00474224304352, 6.538016472902981, 3.9447322637539326, 13.414160101763711, 6.448839575211088, 10.49923916603397, 78.36911583502086, 3.386081151940391, 20.45278368502809, 101.04946139226541, 6.270662754914807, 11.995696082700654, 44.41398945413784, 2.613420642041117, 20.45278368502809, 2.8759212003130576, 101.04946139226541, 7.6400877489101475, 138.00474224304352, 1.4483184776151965, 1.4530971254772704, 1.453155125041296, 1.4745407430858946, 1.4745654174253373, 1.4926227203189633, 1.5262849632751612, 1.6344132585151792, 1.638054818614308, 1.638054818614308, 1.645013820192623, 1.6936056441766947, 1.6936056441766947, 1.6990014101406292, 1.6989873214862345, 1.899109027628459, 1.9264405526600827, 1.9488414398721752, 1.9727673760959576, 1.9829211743159043, 1.9829695769626647, 2.1439105299234917, 88.98769337049787, 47.35691787267731, 76.8659049811492, 3.212876590272174, 17.44499937754194, 78.36911583502086, 27.335727081227176, 66.74947823770802, 21.194352185410438, 4.1263311843244725, 3.9447322637539326, 12.713332016065076, 55.31213854816516, 13.89665682741784, 5.155125033403678, 4.933805506245072, 24.547317210360852, 22.328574119604628, 6.270662754914807, 6.727873128675712, 6.727864941940342, 6.270662754914807, 5.3158900695343405, 4.841541244425234, 3.9447322637539326, 3.7451059138252623, 3.212876590272174, 5.958053982908799, 6.798131328104006, 30.865297013975614, 1.9488414398721752, 1.4745654174253373, 1.4745407430858946, 22.328574119604628, 17.44499937754194, 138.00474224304352, 27.335727081227176, 101.04946139226541, 1.4483184776151965, 1.4530971254772704, 1.453155125041296, 1.4926227203189633, 1.5262849632751612, 1.6344132585151792, 1.638054818614308, 1.638054818614308, 1.645013820192623, 1.6936056441766947, 1.6936056441766947, 44.41398945413784, 78.36911583502086, 31.578200384386324, 55.31213854816516, 52.243030932879314, 66.74947823770802, 2.5281666533337663, 2.5281666533337663, 2.5281666533337663, 2.63502129452712, 12.713332016065076, 15.36071446755834, 11.588316073319788, 9.09639767956388, 7.813533549972127, 7.553885030993137, 4.386054642450273, 4.1263311843244725, 3.5379511516720683, 3.5379511516720683, 3.174512579665784, 3.174500859505139, 6.538016472902981, 32.74011585184026, 1.6344132585151792, 30.865297013975614, 1.4483184776151965, 1.4530971254772704, 1.453155125041296, 1.4745407430858946, 1.4745654174253373, 1.4926227203189633, 1.5262849632751612, 1.638054818614308, 1.638054818614308, 1.645013820192623, 1.6936056441766947, 1.6936056441766947, 1.6989873214862345, 1.6990014101406292, 1.899109027628459, 138.00474224304352, 28.20555837723726, 2.1439105299234917, 13.414160101763711, 2.5281666533337663, 2.5281666533337663, 2.5281666533337663, 76.8659049811492, 9.051790000883079, 3.682585688031358, 27.335727081227176, 4.841541244425234, 101.04946139226541, 6.441619830747844, 30.867114177266846, 30.867114177266846, 12.713332016065076, 6.830996542875138, 4.82094297336604, 3.7268185869316186, 3.573914665724132, 3.3829433176126837, 3.083469375081956, 3.0236254101416042, 11.896686249138348, 1.9829695769626647, 1.9829211743159043, 1.6990014101406292, 1.6989873214862345, 1.4926227203189633, 24.547317210360852, 138.00474224304352, 1.4483184776151965, 1.4530971254772704, 1.453155125041296, 1.4745407430858946, 1.4745654174253373, 1.5262849632751612, 44.41398945413784, 1.6344132585151792, 1.638054818614308, 1.638054818614308, 1.645013820192623, 1.6936056441766947, 1.6936056441766947, 4.116407751623284, 76.8659049811492, 101.04946139226541, 20.45278368502809, 21.194352185410438, 5.3158900695343405, 15.330272086545584, 13.414160101763711, 88.98769337049787, 4.841541244425234, 2.9321546634679265, 1.899109027628459, 9.051790000883079, 7.4848333498347, 5.155125033403678, 4.89404870930535, 13.89665682741784, 3.186447302066019, 22.328574119604628, 2.6499951926518563, 2.1439105299234917, 1.899109027628459, 1.638054818614308, 1.638054818614308, 1.4483184776151965, 2.9321546634679265, 52.243030932879314, 32.74011585184026, 17.44499937754194, 1.4530971254772704, 1.453155125041296, 1.4745407430858946, 1.4745654174253373, 1.4926227203189633, 1.5262849632751612, 1.6344132585151792, 1.645013820192623, 1.6936056441766947, 1.6936056441766947, 1.6989873214862345, 1.6990014101406292, 1.9264405526600827, 101.04946139226541, 55.31213854816516, 138.00474224304352, 76.8659049811492, 30.867114177266846, 3.0464044157186203, 88.98769337049787, 4.1263311843244725, 13.414160101763711, 5.002159751258396, 4.43888696419454, 5.958053982908799, 21.254574133731673, 10.49923916603397, 6.810826378202869, 4.559514772147734, 3.6826299814690877, 3.682585688031358, 17.44499937754194, 1.9264405526600827, 13.89665682741784, 28.20555837723726, 1.4483184776151965, 1.4530971254772704, 1.453155125041296, 1.4745407430858946, 1.4745654174253373, 1.4926227203189633, 1.5262849632751612, 1.6344132585151792, 1.638054818614308, 1.638054818614308, 1.645013820192623, 1.6936056441766947, 1.6936056441766947, 1.6989873214862345, 1.6990014101406292, 1.899109027628459, 1.9488414398721752, 1.9727673760959576, 1.9829211743159043, 1.9829695769626647, 24.547317210360852, 44.41398945413784, 2.8759212003130576, 5.494058649923772, 13.414160101763711, 2.9321546634679265, 3.3829433176126837, 3.1607485624211606, 66.74947823770802, 15.330272086545584, 31.578200384386324, 3.186447302066019, 4.43888696419454, 78.36911583502086, 6.270662754914807, 30.865297013975614, 32.74011585184026, 7.813533549972127], \"Category\": [\"Default\", \"Default\", \"Default\", \"Default\", \"Default\", \"Default\", \"Default\", \"Default\", \"Default\", \"Default\", \"Default\", \"Default\", \"Default\", \"Default\", \"Default\", \"Default\", \"Default\", \"Default\", \"Default\", \"Default\", \"Default\", \"Default\", \"Default\", \"Default\", \"Default\", \"Default\", \"Default\", \"Default\", \"Default\", \"Default\", \"Topic1\", \"Topic1\", \"Topic1\", \"Topic1\", \"Topic1\", \"Topic1\", \"Topic1\", \"Topic1\", \"Topic1\", \"Topic1\", \"Topic1\", \"Topic1\", \"Topic1\", \"Topic1\", \"Topic1\", \"Topic1\", \"Topic1\", \"Topic1\", \"Topic1\", \"Topic1\", \"Topic1\", \"Topic1\", \"Topic1\", \"Topic1\", \"Topic1\", \"Topic1\", \"Topic1\", \"Topic1\", \"Topic1\", \"Topic1\", \"Topic1\", \"Topic1\", \"Topic1\", \"Topic1\", \"Topic1\", \"Topic1\", \"Topic1\", \"Topic1\", \"Topic1\", \"Topic1\", \"Topic1\", \"Topic1\", \"Topic1\", \"Topic2\", \"Topic2\", \"Topic2\", \"Topic2\", \"Topic2\", \"Topic2\", \"Topic2\", \"Topic2\", \"Topic2\", \"Topic2\", \"Topic2\", \"Topic2\", \"Topic2\", \"Topic2\", \"Topic2\", \"Topic2\", \"Topic2\", \"Topic2\", \"Topic2\", \"Topic2\", \"Topic2\", \"Topic2\", \"Topic2\", \"Topic2\", \"Topic2\", \"Topic2\", \"Topic2\", \"Topic2\", \"Topic2\", \"Topic2\", \"Topic2\", \"Topic2\", \"Topic2\", \"Topic2\", \"Topic2\", \"Topic3\", \"Topic3\", \"Topic3\", \"Topic3\", \"Topic3\", \"Topic3\", \"Topic3\", \"Topic3\", \"Topic3\", \"Topic3\", \"Topic3\", \"Topic3\", \"Topic3\", \"Topic3\", \"Topic3\", \"Topic3\", \"Topic3\", \"Topic3\", \"Topic3\", \"Topic3\", \"Topic3\", \"Topic3\", \"Topic3\", \"Topic3\", \"Topic3\", \"Topic3\", \"Topic3\", \"Topic3\", \"Topic3\", \"Topic3\", \"Topic3\", \"Topic3\", \"Topic3\", \"Topic3\", \"Topic3\", \"Topic3\", \"Topic3\", \"Topic3\", \"Topic3\", \"Topic3\", \"Topic3\", \"Topic4\", \"Topic4\", \"Topic4\", \"Topic4\", \"Topic4\", \"Topic4\", \"Topic4\", \"Topic4\", \"Topic4\", \"Topic4\", \"Topic4\", \"Topic4\", \"Topic4\", \"Topic4\", \"Topic4\", \"Topic4\", \"Topic4\", \"Topic4\", \"Topic4\", \"Topic4\", \"Topic4\", \"Topic4\", \"Topic4\", \"Topic4\", \"Topic4\", \"Topic4\", \"Topic4\", \"Topic4\", \"Topic4\", \"Topic4\", \"Topic4\", \"Topic4\", \"Topic4\", \"Topic4\", \"Topic4\", \"Topic4\", \"Topic4\", \"Topic4\", \"Topic4\", \"Topic4\", \"Topic4\", \"Topic4\", \"Topic4\", \"Topic4\", \"Topic4\", \"Topic4\", \"Topic4\", \"Topic5\", \"Topic5\", \"Topic5\", \"Topic5\", \"Topic5\", \"Topic5\", \"Topic5\", \"Topic5\", \"Topic5\", \"Topic5\", \"Topic5\", \"Topic5\", \"Topic5\", \"Topic5\", \"Topic5\", \"Topic5\", \"Topic5\", \"Topic5\", \"Topic5\", \"Topic5\", \"Topic5\", \"Topic5\", \"Topic5\", \"Topic5\", \"Topic5\", \"Topic5\", \"Topic5\", \"Topic5\", \"Topic5\", \"Topic5\", \"Topic5\", \"Topic5\", \"Topic5\", \"Topic5\", \"Topic5\", \"Topic5\", \"Topic5\", \"Topic5\", \"Topic5\", \"Topic5\", \"Topic5\", \"Topic5\", \"Topic5\", \"Topic5\", \"Topic5\", \"Topic5\", \"Topic5\", \"Topic5\", \"Topic5\", \"Topic6\", \"Topic6\", \"Topic6\", \"Topic6\", \"Topic6\", \"Topic6\", \"Topic6\", \"Topic6\", \"Topic6\", \"Topic6\", \"Topic6\", \"Topic6\", \"Topic6\", \"Topic6\", \"Topic6\", \"Topic6\", \"Topic6\", \"Topic6\", \"Topic6\", \"Topic6\", \"Topic6\", \"Topic6\", \"Topic6\", \"Topic6\", \"Topic6\", \"Topic6\", \"Topic6\", \"Topic6\", \"Topic6\", \"Topic6\", \"Topic6\", \"Topic6\", \"Topic6\", \"Topic6\", \"Topic6\", \"Topic6\", \"Topic6\", \"Topic6\", \"Topic6\", \"Topic6\", \"Topic6\", \"Topic7\", \"Topic7\", \"Topic7\", \"Topic7\", \"Topic7\", \"Topic7\", \"Topic7\", \"Topic7\", \"Topic7\", \"Topic7\", \"Topic7\", \"Topic7\", \"Topic7\", \"Topic7\", \"Topic7\", \"Topic7\", \"Topic7\", \"Topic7\", \"Topic7\", \"Topic7\", \"Topic7\", \"Topic7\", \"Topic7\", \"Topic7\", \"Topic7\", \"Topic7\", \"Topic7\", \"Topic7\", \"Topic7\", \"Topic7\", \"Topic7\", \"Topic7\", \"Topic7\", \"Topic7\", \"Topic7\", \"Topic7\", \"Topic7\", \"Topic7\", \"Topic7\", \"Topic7\", \"Topic7\", \"Topic7\", \"Topic7\", \"Topic7\", \"Topic7\", \"Topic8\", \"Topic8\", \"Topic8\", \"Topic8\", \"Topic8\", \"Topic8\", \"Topic8\", \"Topic8\", \"Topic8\", \"Topic8\", \"Topic8\", \"Topic8\", \"Topic8\", \"Topic8\", \"Topic8\", \"Topic8\", \"Topic8\", \"Topic8\", \"Topic8\", \"Topic8\", \"Topic8\", \"Topic8\", \"Topic8\", \"Topic8\", \"Topic8\", \"Topic8\", \"Topic8\", \"Topic8\", \"Topic8\", \"Topic8\", \"Topic8\", \"Topic8\", \"Topic8\", \"Topic8\", \"Topic8\", \"Topic8\", \"Topic8\", \"Topic8\", \"Topic8\", \"Topic8\", \"Topic8\", \"Topic8\", \"Topic9\", \"Topic9\", \"Topic9\", \"Topic9\", \"Topic9\", \"Topic9\", \"Topic9\", \"Topic9\", \"Topic9\", \"Topic9\", \"Topic9\", \"Topic9\", \"Topic9\", \"Topic9\", \"Topic9\", \"Topic9\", \"Topic9\", \"Topic9\", \"Topic9\", \"Topic9\", \"Topic9\", \"Topic9\", \"Topic9\", \"Topic9\", \"Topic9\", \"Topic9\", \"Topic9\", \"Topic9\", \"Topic9\", \"Topic9\", \"Topic9\", \"Topic9\", \"Topic9\", \"Topic9\", \"Topic9\", \"Topic9\", \"Topic9\", \"Topic9\", \"Topic9\", \"Topic9\", \"Topic9\", \"Topic9\", \"Topic10\", \"Topic10\", \"Topic10\", \"Topic10\", \"Topic10\", \"Topic10\", \"Topic10\", \"Topic10\", \"Topic10\", \"Topic10\", \"Topic10\", \"Topic10\", \"Topic10\", \"Topic10\", \"Topic10\", \"Topic10\", \"Topic10\", \"Topic10\", \"Topic10\", \"Topic10\", \"Topic10\", \"Topic10\", \"Topic10\", \"Topic10\", \"Topic10\", \"Topic10\", \"Topic10\", \"Topic10\", \"Topic10\", \"Topic10\", \"Topic10\", \"Topic10\", \"Topic10\", \"Topic10\", \"Topic10\", \"Topic10\", \"Topic10\", \"Topic10\", \"Topic10\", \"Topic10\", \"Topic10\", \"Topic10\", \"Topic10\", \"Topic10\", \"Topic10\", \"Topic10\", \"Topic10\", \"Topic10\"], \"logprob\": [30.0, 29.0, 28.0, 27.0, 26.0, 25.0, 24.0, 23.0, 22.0, 21.0, 20.0, 19.0, 18.0, 17.0, 16.0, 15.0, 14.0, 13.0, 12.0, 11.0, 10.0, 9.0, 8.0, 7.0, 6.0, 5.0, 4.0, 3.0, 2.0, 1.0, -1.5783, -2.2173, -2.6333, -3.5253, -1.7823, -4.2534, -4.6306, -4.8699, -1.8852, -5.9311, -2.4102, -6.431, -5.6277, -2.5952, -3.3939, -8.3187, -8.3182, -8.3187, -8.3186, -8.3187, -8.3187, -8.3187, -8.3187, -8.3187, -8.3187, -8.3186, -8.3186, -8.3185, -8.3187, -8.3187, -8.0659, -8.2985, -8.3115, -8.312, -8.3178, -8.3183, -8.3183, -8.3184, -8.3184, -8.3184, -8.3184, -8.3185, -8.3185, -1.8929, -2.5996, -2.7674, -3.105, -2.6377, -3.8747, -2.5604, -4.0552, -4.3707, -4.3972, -1.6543, -4.991, -4.1271, -5.1983, -5.26, -5.2601, -5.2601, -5.2601, -3.285, -3.1437, -3.7931, -5.1504, -4.1431, -3.4721, -3.4872, -8.1589, -8.1589, -8.1589, -8.1588, -8.1589, -6.4827, -8.1562, -8.1583, -8.1583, -8.1586, -2.1319, -3.1404, -3.4236, -3.6093, -3.8671, -4.2145, -4.7415, -2.4704, -5.3756, -5.6527, -5.6529, -5.0884, -4.4166, -2.3519, -2.9213, -1.4863, -2.2704, -4.0932, -3.1768, -7.5398, -7.5397, -7.5398, -7.5398, -7.5398, -7.5398, -7.5398, -7.5398, -3.6999, -7.5398, -7.5398, -5.3464, -7.5397, -7.5306, -7.5356, -7.5379, -7.5386, -7.5386, -7.5388, -7.5391, -7.5394, -7.5394, -3.0893, -3.3074, -1.2008, -4.0931, -1.9719, -1.3201, -2.3947, -5.0971, -5.0971, -4.8103, -7.2612, -7.2588, -7.2612, -7.261, -7.2612, -7.2612, -7.2612, -7.2612, -7.2611, -7.2611, -7.2612, -7.2611, -7.2612, -7.2612, -7.2612, -7.2612, -7.2611, -7.261, -7.2611, -7.2612, -5.2821, -7.2442, -7.2578, -7.2608, -7.2608, -7.2609, -7.2609, -7.2609, -7.261, -7.261, -7.261, -7.261, -7.261, -7.261, -7.261, -7.261, -7.261, -2.3747, -1.1354, -4.2191, -2.7575, -4.7294, -1.5733, -4.2722, -1.6553, -7.1797, -7.1797, -7.1797, -7.1797, -7.1797, -7.1797, -7.1797, -7.1797, -7.1797, -7.1797, -7.1797, -7.1794, -7.1794, -7.1794, -7.1797, -7.1797, -7.1797, -7.1797, -7.1797, -7.1797, -7.1797, -7.1797, -6.9423, -7.1451, -7.179, -7.1793, -7.1795, -7.1795, -7.1795, -7.1795, -7.1795, -7.1795, -7.1796, -7.1796, -7.1796, -7.1796, -7.1796, -7.1796, -7.1796, -7.1796, -7.1796, -2.9258, -2.9258, -3.0068, -3.2004, -3.3127, -3.5669, -3.6335, -3.8365, -3.395, -3.3184, -1.8256, -4.6009, -5.1641, -5.1642, -3.0057, -3.3305, -1.9662, -3.8938, -2.6974, -7.052, -7.052, -7.052, -7.052, -7.052, -7.052, -7.052, -7.052, -7.052, -7.0516, -7.0516, -3.7856, -4.2213, -6.5875, -6.9831, -7.0454, -7.0503, -7.0511, -7.0511, -7.0511, -7.0515, -7.0515, -2.0101, -2.3112, -2.5753, -2.7445, -2.7825, -3.4225, -3.4989, -3.697, -3.697, -3.8425, -3.8425, -3.3225, -1.7317, -4.931, -3.0032, -7.0953, -7.0953, -7.0953, -7.0953, -7.0953, -7.0953, -7.0953, -7.0953, -7.0953, -7.0953, -7.0953, -7.0953, -7.0952, -7.0953, -7.0953, -2.9569, -6.7708, -7.0942, -7.0942, -7.0943, -7.0943, -7.0943, -7.0947, -7.0948, -7.0948, -7.0948, -7.0949, -7.0949, -7.095, -7.095, -1.2642, -2.1922, -2.8766, -3.2857, -3.6075, -3.662, -3.7345, -3.8601, -3.8871, -2.5521, -4.5363, -4.5364, -4.8232, -4.8232, -5.0995, -3.2906, -2.1728, -6.9874, -6.9874, -6.9874, -6.9873, -6.9874, -6.9874, -3.6446, -6.9872, -6.9871, -6.9871, -6.9874, -6.9874, -6.9874, -6.984, -6.9858, -6.9866, -6.9867, -6.9867, -6.9868, -6.9869, -6.9869, -6.9869, -6.987, -6.987, -6.987, -2.3753, -2.5874, -3.0201, -3.0827, -2.1305, -3.6317, -1.6979, -3.8928, -4.2236, -4.4337, -4.7204, -4.7204, -4.9967, -4.4337, -2.3315, -3.1802, -4.1642, -6.8819, -6.8846, -6.8846, -6.8846, -6.8846, -6.8846, -6.8846, -6.8846, -6.8846, -6.8846, -6.8846, -6.8846, -6.8846, -3.2479, -4.2573, -4.2177, -6.7967, -6.8704, -6.8831, -6.8836, -6.884, -6.884, -6.8841, -6.8842, -6.8843, -1.2798, -2.0287, -2.5103, -2.9846, -3.2543, -3.2543, -1.8544, -4.2216, -3.316, -3.3986, -6.6726, -6.6727, -6.6727, -6.6727, -6.6727, -6.6727, -6.6727, -6.6727, -6.6727, -6.6727, -6.6727, -6.6727, -6.6727, -6.6727, -6.6727, -6.6723, -6.6727, -6.6727, -6.6727, -6.6727, -6.6466, -6.6666, -6.6715, -6.6719, -6.672, -6.6723, -6.6723, -6.6724, -6.6724, -6.6725, -6.6725, -6.6725, -6.6725, -6.6725, -6.6725, -6.6726, -6.6726, -6.6726], \"loglift\": [30.0, 29.0, 28.0, 27.0, 26.0, 25.0, 24.0, 23.0, 22.0, 21.0, 20.0, 19.0, 18.0, 17.0, 16.0, 15.0, 14.0, 13.0, 12.0, 11.0, 10.0, 9.0, 8.0, 7.0, 6.0, 5.0, 4.0, 3.0, 2.0, 1.0, 1.3514, 1.3432, 1.3324, 1.2966, 1.2745, 1.2318, 1.1777, 1.1333, 0.9173, 0.8076, 0.807, 0.5644, 0.0058, -0.1044, -0.3177, -1.2709, -1.2737, -1.2742, -1.2887, -1.2889, -1.3011, -1.3918, -1.394, -1.394, -1.3983, -1.4273, -1.4273, -1.4303, -1.4306, -1.5419, -4.6036, -4.6739, -4.9063, -4.202, -1.956, -2.014, -1.6628, -4.3298, -2.2158, -1.5848, -2.8065, -2.9561, -1.861, 1.6231, 1.6056, 1.5994, 1.5834, 1.5793, 1.5211, 1.5183, 1.4991, 1.4514, 1.4468, 1.4218, 1.3132, 1.2576, 1.251, 1.2307, 1.2306, 1.2306, 1.2306, 1.115, 0.9006, 0.4245, 0.3901, -0.0331, -0.2549, -0.9963, -1.1111, -1.1144, -1.1144, -1.129, -1.129, -3.0204, -1.4174, -1.8952, -1.8953, -2.5196, 2.2326, 2.165, 2.1318, 2.1052, 2.0607, 1.984, 1.8232, 1.574, 1.5448, 1.3918, 1.3916, 1.2734, 1.0849, 1.0533, 1.0082, 1.0046, 0.9468, 0.8487, 0.8117, -0.4921, -0.5099, -0.51, -0.5222, -0.5445, -0.6129, -0.6152, -0.6152, -0.6431, -0.6485, -0.6485, -1.8842, -0.6516, -4.6009, -3.457, -1.1955, -2.9795, -1.5354, -2.8505, -2.7172, -0.7626, -0.8007, 2.3598, 2.3315, 2.2614, 2.1742, 2.1381, 2.0851, 1.8229, 1.7943, 1.7943, 1.5322, -0.2134, -0.2144, -0.2167, -0.2312, -0.2313, -0.2435, -0.2658, -0.3343, -0.3364, -0.3364, -0.3407, -0.3729, -0.373, -0.4844, -0.4987, -0.5102, -0.5224, -0.5274, -0.5275, -0.6056, -1.0651, -3.6196, -3.7418, -2.894, -4.0436, -1.36, -4.77, -1.7204, -1.2152, -2.4391, -1.7067, -2.1941, -4.2042, -1.0625, -2.861, -4.4585, -1.6787, 2.5589, 2.4892, 2.2384, 1.6426, 1.6325, 1.2292, 1.1126, 0.8356, -0.1319, -0.1352, -0.1353, -0.1499, -0.1499, -0.1621, -0.1844, -0.2528, -0.255, -0.255, -0.2593, -0.2881, -0.2881, -0.2912, -0.2916, -0.4029, -0.4172, -0.4288, -0.441, -0.4461, -0.4461, -0.5242, -4.0127, -3.5846, -4.1029, -0.9283, -2.6203, -4.1227, -3.0695, -3.9623, -2.8151, -1.1788, -1.1338, -2.304, -3.7744, -2.393, -1.4014, -1.3575, -2.962, -2.8673, -1.5973, 2.5861, 2.5861, 2.5755, 2.5471, 2.5283, 2.4789, 2.4642, 2.4145, 2.2385, 2.1831, 2.163, 2.15, 1.8657, 1.8656, 1.3066, 1.2286, 0.5247, 0.2162, 0.1052, -0.0042, -0.0075, -0.0076, -0.0344, -0.0567, -0.1251, -0.1273, -0.1273, -0.1316, -0.1602, -0.1602, -0.161, -1.1645, -2.6218, -3.5779, -3.5831, -3.8331, -0.5604, -0.5604, -0.5604, -0.6022, -2.176, 2.6763, 2.657, 2.635, 2.6178, 2.6136, 2.5172, 2.5019, 2.4576, 2.4576, 2.4206, 2.4206, 2.2181, 2.1979, 1.9959, 0.9853, -0.0475, -0.0508, -0.0508, -0.0654, -0.0654, -0.0776, -0.0999, -0.1706, -0.1706, -0.1748, -0.2039, -0.2039, -0.207, -0.2071, -0.3185, -0.4661, -2.6921, -0.4387, -2.2724, -0.6036, -0.6036, -0.6036, -4.0186, -1.8795, -0.9802, -2.9848, -1.254, -4.2924, -1.5396, -3.1065, 2.7243, 2.6833, 2.6201, 2.5595, 2.4951, 2.4825, 2.4649, 2.4321, 2.4246, 2.3898, 2.1973, 2.1972, 2.065, 2.065, 1.9182, 0.9269, 0.3181, 0.0604, 0.0571, 0.0571, 0.0426, 0.0425, 0.008, -0.0199, -0.0603, -0.0624, -0.0624, -0.0669, -0.096, -0.096, -0.9808, -3.9097, -4.184, -2.5866, -2.6222, -1.2393, -2.2985, -2.165, -4.0573, -1.146, -0.6445, -0.2102, 2.8399, 2.8179, 2.7581, 2.7475, 2.656, 2.6275, 2.6144, 2.5508, 2.432, 2.3431, 2.2043, 2.2043, 2.0511, 1.9088, 1.1308, 0.7494, 0.3949, 0.1626, 0.1599, 0.1453, 0.1452, 0.1331, 0.1108, 0.0423, 0.0359, 0.0067, 0.0067, 0.0036, 0.0036, -0.1221, -0.4453, -0.8521, -1.7269, -3.7206, -2.8819, -0.5789, -3.9539, -0.8833, -2.0622, -1.0757, -0.9565, -1.2508, 3.0818, 3.0382, 2.9893, 2.9164, 2.8603, 2.8603, 2.7047, 2.5409, 1.4705, 0.68, 0.3752, 0.3718, 0.3717, 0.3571, 0.3571, 0.3449, 0.3226, 0.2542, 0.2519, 0.2519, 0.2477, 0.2186, 0.2186, 0.2154, 0.2154, 0.1045, 0.0782, 0.066, 0.0609, 0.0609, -2.4291, -3.042, -0.3097, -0.9574, -1.8502, -0.3299, -0.4729, -0.405, -3.4552, -1.9841, -2.7068, -0.4132, -0.7447, -3.6158, -1.0902, -2.684, -2.743, -1.3102]}, \"token.table\": {\"Topic\": [6, 10, 8, 2, 8, 8, 9, 1, 5, 6, 9, 5, 6, 8, 2, 4, 8, 1, 6, 2, 2, 4, 6, 10, 6, 9, 5, 8, 2, 10, 1, 3, 5, 9, 9, 3, 3, 5, 2, 5, 6, 7, 4, 8, 2, 5, 1, 2, 4, 9, 2, 6, 9, 10, 2, 2, 9, 2, 10, 6, 9, 2, 3, 6, 7, 10, 7, 2, 7, 9, 10, 9, 2, 1, 6, 7, 1, 3, 6, 1, 10, 1, 7, 6, 3, 8, 8, 2, 4, 9, 1, 7, 4, 2, 4, 6, 3, 6, 7, 2, 8, 6, 4, 3, 7, 9, 2, 6, 3, 3, 10, 1, 2, 3, 1, 2, 3, 5, 6, 7, 8, 9, 7, 9, 3, 4, 9, 2, 2, 3, 9, 3, 8, 3, 1, 8, 7, 1, 3, 7, 8, 6, 4, 8, 7, 7, 2, 9, 3, 6, 6, 9, 1, 3, 7, 1, 3, 4, 9, 8, 8, 2, 3, 8, 10], \"Freq\": [0.6224951204336713, 0.8146449951592964, 0.5042941715382797, 0.9263694273565083, 0.6699616630425583, 0.9719081553174329, 0.6276582696670508, 0.6432493464529764, 0.2474035947896063, 0.06927300654108977, 0.029688431374752758, 0.8555862796166742, 0.045030856821930226, 0.06754628523289534, 0.28516354516514997, 0.5295894410209928, 0.16295059723722854, 0.5069021376351871, 0.7605078873325372, 0.9303999471569432, 0.18291081064508258, 0.6950610804513138, 0.07316432425803303, 0.8772863341587163, 0.6781659112459374, 0.5265627120148889, 0.7652805552335322, 0.9438910259589162, 0.8107332149467409, 0.5190920626225254, 0.9816898880446584, 0.6078976284119637, 0.9169955560864387, 0.6104801796840581, 0.8173192049344663, 0.8462800419243608, 0.34771467309018944, 0.34771467309018944, 0.6544427452044966, 0.26177709808179866, 0.891812298663399, 0.6300203050856229, 0.6327614995316119, 0.8049761291090838, 0.5867172011790394, 0.3911448007860262, 0.18213536942592945, 0.8065994931719732, 0.3410461298167939, 0.3410461298167939, 0.8286708115781887, 0.22929206894380605, 0.05732301723595151, 0.6305531895954666, 0.7910870896753188, 0.7910870896753188, 0.8838030930036526, 0.8863501181446476, 0.0709080094515718, 0.752461007973852, 0.7759268638648313, 0.7590071488810944, 0.6881577766665358, 0.5131253777452465, 0.8479483948166363, 0.9524499672653371, 0.9765170774888, 0.30590317541857903, 0.6118063508371581, 0.7195975351618521, 0.2158792605485556, 0.6104801796840581, 0.9897400272378587, 0.3356800736846587, 0.6713601473693174, 0.6300179790784014, 0.9187292625780181, 0.051040514587667674, 0.025520257293833837, 0.9691251559082512, 0.8146351968826445, 0.7287907760879533, 0.9266754751071031, 0.8261831920993709, 0.9436476201319051, 0.6486200304638478, 0.8783491489624771, 0.7910658927977711, 0.8375455227500165, 0.4664373750875165, 0.9889007869168422, 0.8958814799003417, 0.5904562277755786, 0.936391619846832, 0.0407126791237753, 0.8918133838563022, 0.22679192093406533, 0.5831792252590251, 0.1619942292386181, 0.9657415841965367, 0.6614575976547091, 0.6781772593866864, 0.8438080485888988, 0.274892124411775, 0.5803278182026361, 0.12217427751634445, 0.9132258006227378, 0.8010454361051144, 0.8859799471376676, 0.9100740124187378, 0.9409739227971345, 0.5692928394836965, 0.14981390512728854, 0.2696650292291194, 0.2318760897625099, 0.07246127805078434, 0.2825989843980589, 0.16666093951680397, 0.10869191707617651, 0.0434767668304706, 0.0869535336609412, 0.007246127805078434, 0.8479483948166363, 0.6904558737982833, 0.019141309034783564, 0.8039349794609096, 0.17227178131305207, 0.9458956583195234, 0.4796265472890991, 0.5138855863811777, 0.754718350261834, 0.4259502112063726, 0.8297131955508597, 0.9011267987369941, 0.6551856462335588, 0.5885810300282378, 0.8794690251914705, 0.8683204123915124, 0.6881852441016628, 0.9119813422491692, 0.8394156773724065, 0.7973638824829338, 0.5904562277755786, 0.504306481242248, 0.7270381038237322, 0.6118403621544733, 0.7910870896753188, 0.9352245631700795, 0.2941984941849893, 0.5883969883699786, 0.22392831594248414, 0.7165706110159493, 0.7996545889990255, 0.9314427360894761, 0.9492319617796506, 0.9924632368678024, 0.2892674270055096, 0.668930924950241, 0.01807921418784435, 0.5885859107678468, 0.8868017339755714, 0.656511653436603, 0.25217106151868834, 0.6724561640498355, 0.8809503673742427], \"Term\": [\"access\", \"account\", \"adversarial\", \"aes\", \"asset\", \"attack\", \"audit\", \"authentication\", \"authentication\", \"authentication\", \"authentication\", \"authorise\", \"authorise\", \"authorise\", \"availability\", \"availability\", \"availability\", \"burp\", \"bypass\", \"cbc\", \"certificate\", \"certificate\", \"certificate\", \"checksum\", \"cipher\", \"confidential\", \"control\", \"cookie\", \"crack\", \"crc\", \"credential\", \"cross\", \"crypt\", \"cryptanalysis\", \"csrf\", \"danger\", \"day\", \"day\", \"decode\", \"decode\", \"delegation\", \"disclosure\", \"dsa\", \"eavesdropping\", \"encode\", \"encode\", \"encrypt\", \"encrypt\", \"exploit\", \"exploit\", \"fingerprint\", \"forge\", \"forge\", \"forge\", \"fraud\", \"gnupg\", \"hack\", \"hash\", \"hash\", \"hijacking\", \"hmac\", \"honeypot\", \"hsm\", \"illegitimate\", \"information\", \"inject\", \"injection\", \"insecure\", \"insecure\", \"integrity\", \"integrity\", \"intruder\", \"key\", \"ldap\", \"ldap\", \"leak\", \"login\", \"login\", \"login\", \"malicious\", \"md\", \"mitm\", \"name\", \"nonce\", \"oauth\", \"obfuscate\", \"openid\", \"openssh\", \"openssl\", \"owasp\", \"password\", \"pbkdf\", \"penetration\", \"private\", \"private\", \"privilege\", \"protect\", \"protect\", \"protect\", \"public\", \"rainbow\", \"rbac\", \"rsa\", \"safe\", \"safe\", \"safe\", \"salt\", \"saml\", \"sandbox\", \"sanitise\", \"script\", \"scripting\", \"scripting\", \"scripting\", \"security\", \"security\", \"security\", \"security\", \"security\", \"security\", \"security\", \"security\", \"sensitive\", \"shibboleth\", \"sign\", \"sign\", \"sign\", \"signature\", \"signing\", \"signing\", \"single\", \"site\", \"snif\", \"spam\", \"spnego\", \"spoof\", \"sql\", \"ssh\", \"sso\", \"steal\", \"table\", \"tamper\", \"test\", \"theft\", \"thread\", \"threadsafe\", \"threat\", \"tls\", \"transport\", \"transport\", \"trust\", \"trust\", \"tunnel\", \"unsafe\", \"user\", \"username\", \"validate\", \"validate\", \"validate\", \"vector\", \"violate\", \"virus\", \"vulnerability\", \"vulnerability\", \"xss\"]}, \"R\": 30, \"lambda.step\": 0.01, \"plot.opts\": {\"xlab\": \"PC1\", \"ylab\": \"PC2\"}, \"topic.order\": [8, 2, 3, 10, 4, 7, 9, 6, 5, 1]};\n",
       "\n",
       "function LDAvis_load_lib(url, callback){\n",
       "  var s = document.createElement('script');\n",
       "  s.src = url;\n",
       "  s.async = true;\n",
       "  s.onreadystatechange = s.onload = callback;\n",
       "  s.onerror = function(){console.warn(\"failed to load library \" + url);};\n",
       "  document.getElementsByTagName(\"head\")[0].appendChild(s);\n",
       "}\n",
       "\n",
       "if(typeof(LDAvis) !== \"undefined\"){\n",
       "   // already loaded: just create the visualization\n",
       "   !function(LDAvis){\n",
       "       new LDAvis(\"#\" + \"ldavis_el1133623628925883041618341876\", ldavis_el1133623628925883041618341876_data);\n",
       "   }(LDAvis);\n",
       "}else if(typeof define === \"function\" && define.amd){\n",
       "   // require.js is available: use it to load d3/LDAvis\n",
       "   require.config({paths: {d3: \"https://d3js.org/d3.v5\"}});\n",
       "   require([\"d3\"], function(d3){\n",
       "      window.d3 = d3;\n",
       "      LDAvis_load_lib(\"https://cdn.jsdelivr.net/gh/bmabey/pyLDAvis@3.3.1/pyLDAvis/js/ldavis.v3.0.0.js\", function(){\n",
       "        new LDAvis(\"#\" + \"ldavis_el1133623628925883041618341876\", ldavis_el1133623628925883041618341876_data);\n",
       "      });\n",
       "    });\n",
       "}else{\n",
       "    // require.js not available: dynamically load d3 & LDAvis\n",
       "    LDAvis_load_lib(\"https://d3js.org/d3.v5.js\", function(){\n",
       "         LDAvis_load_lib(\"https://cdn.jsdelivr.net/gh/bmabey/pyLDAvis@3.3.1/pyLDAvis/js/ldavis.v3.0.0.js\", function(){\n",
       "                 new LDAvis(\"#\" + \"ldavis_el1133623628925883041618341876\", ldavis_el1133623628925883041618341876_data);\n",
       "            })\n",
       "         });\n",
       "}\n",
       "</script>"
      ],
      "text/plain": [
       "PreparedData(topic_coordinates=              x         y  topics  cluster       Freq\n",
       "topic                                                \n",
       "7     -0.254399  0.093867       1        1  25.637399\n",
       "1      0.001863  0.323094       2        1  19.389312\n",
       "2     -0.073579  0.020897       3        1  10.294167\n",
       "9      0.280477  0.128761       4        1   8.329800\n",
       "3     -0.208420 -0.041838       5        1   7.189835\n",
       "6     -0.094220 -0.140553       6        1   6.582489\n",
       "8      0.017569 -0.175901       7        1   6.499785\n",
       "5     -0.038758 -0.034926       8        1   6.379807\n",
       "4      0.173984 -0.110317       9        1   5.293025\n",
       "0      0.195483 -0.063084      10        1   4.404381, topic_info=              Term        Freq       Total Category  logprob  loglift\n",
       "13        password   88.000000   88.000000  Default  30.0000  30.0000\n",
       "0   authentication  101.000000  101.000000  Default  29.0000  29.0000\n",
       "11            sign   52.000000   52.000000  Default  28.0000  28.0000\n",
       "1        authorise   44.000000   44.000000  Default  27.0000  27.0000\n",
       "12        validate   55.000000   55.000000  Default  26.0000  26.0000\n",
       "..             ...         ...         ...      ...      ...      ...\n",
       "15           login    0.092837   78.369116  Topic10  -6.6725  -3.6158\n",
       "65          tamper    0.092836    6.270663  Topic10  -6.6725  -1.0902\n",
       "34         protect    0.092834   30.865297  Topic10  -6.6726  -2.6840\n",
       "24            safe    0.092833   32.740116  Topic10  -6.6726  -2.7430\n",
       "62           pbkdf    0.092833    7.813534  Topic10  -6.6726  -1.3102\n",
       "\n",
       "[463 rows x 6 columns], token_table=      Topic      Freq           Term\n",
       "term                                \n",
       "54        6  0.622495         access\n",
       "40       10  0.814645        account\n",
       "114       8  0.504294    adversarial\n",
       "63        2  0.926369            aes\n",
       "78        8  0.669962          asset\n",
       "...     ...       ...            ...\n",
       "101       8  0.886802        violate\n",
       "72        2  0.656512          virus\n",
       "30        3  0.252171  vulnerability\n",
       "30        8  0.672456  vulnerability\n",
       "94       10  0.880950            xss\n",
       "\n",
       "[165 rows x 3 columns], R=30, lambda_step=0.01, plot_opts={'xlab': 'PC1', 'ylab': 'PC2'}, topic_order=[8, 2, 3, 10, 4, 7, 9, 6, 5, 1])"
      ]
     },
     "execution_count": 20,
     "metadata": {},
     "output_type": "execute_result"
    }
   ],
   "source": [
    "#### Visualize the topics\n",
    "pyLDAvis.enable_notebook()\n",
    "vis =gensimvis.prepare(lda_model, corpus, id2word)\n",
    "vis"
   ]
  },
  {
   "cell_type": "code",
   "execution_count": null,
   "id": "e0b80636",
   "metadata": {},
   "outputs": [],
   "source": []
  },
  {
   "cell_type": "markdown",
   "id": "7681b2a3",
   "metadata": {},
   "source": []
  },
  {
   "cell_type": "code",
   "execution_count": null,
   "id": "358ada2b",
   "metadata": {},
   "outputs": [],
   "source": []
  }
 ],
 "metadata": {
  "kernelspec": {
   "display_name": "Python 3 (ipykernel)",
   "language": "python",
   "name": "python3"
  },
  "language_info": {
   "codemirror_mode": {
    "name": "ipython",
    "version": 3
   },
   "file_extension": ".py",
   "mimetype": "text/x-python",
   "name": "python",
   "nbconvert_exporter": "python",
   "pygments_lexer": "ipython3",
   "version": "3.9.7"
  }
 },
 "nbformat": 4,
 "nbformat_minor": 5
}
